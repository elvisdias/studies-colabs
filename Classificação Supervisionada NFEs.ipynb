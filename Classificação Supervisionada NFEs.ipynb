{
  "nbformat": 4,
  "nbformat_minor": 0,
  "metadata": {
    "colab": {
      "name": "Classificação Supervisionada NFEs (dev).ipynb",
      "provenance": [],
      "collapsed_sections": [
        "7hGu1eeBsVvO",
        "f1TUNap5t_Ug",
        "Qn3Wf6npdnVV",
        "NS2y0sbHHb4i",
        "xuvMqr2VzN5F",
        "qcYVjzV3sf5H",
        "Xc5oCoqAPvlM",
        "vku9kieO1KiK",
        "f3VVJPYJBHIi",
        "_C872pq13dkV",
        "9YXiDh3S3zWb",
        "gg1cv-s5gtmq",
        "Ixs_1rU-5wLP",
        "Wqv5m4mGzN7i",
        "Z3FWwoyYGY9v",
        "y1x1I9b1p9dG",
        "sJmqz-netjF2",
        "1rKkZyDddzlf",
        "pUz3g0m1P5Vy",
        "TRnpTIGE_D9M",
        "MOmqhJKvyF9l"
      ]
    },
    "kernelspec": {
      "display_name": "Python 3",
      "language": "python",
      "name": "python3"
    },
    "language_info": {
      "codemirror_mode": {
        "name": "ipython",
        "version": 3
      },
      "file_extension": ".py",
      "mimetype": "text/x-python",
      "name": "python",
      "nbconvert_exporter": "python",
      "pygments_lexer": "ipython3",
      "version": "3.7.3"
    }
  },
  "cells": [
    {
      "cell_type": "markdown",
      "metadata": {
        "id": "7hGu1eeBsVvO"
      },
      "source": [
        "## Imports"
      ]
    },
    {
      "cell_type": "code",
      "metadata": {
        "colab": {
          "base_uri": "https://localhost:8080/"
        },
        "id": "46J1f3KTzN0g",
        "outputId": "79ff2ea1-e586-4456-8aba-e189d73f773b"
      },
      "source": [
        "!pip install Unidecode\n",
        "!pip install imbalanced-learn\n",
        "#from imblearn.under_sampling import RandomUnderSampler\n",
        "from imblearn.over_sampling import RandomOverSampler\n",
        "import pandas as pd\n",
        "import numpy as np\n",
        "from numpy import hstack\n",
        "from numpy import vstack\n",
        "from numpy import asarray\n",
        "import matplotlib.pyplot as plt\n",
        "import seaborn as sns\n",
        "import unidecode\n",
        "import pickle\n",
        "#import umap\n",
        "import re\n",
        "import string\n",
        "from string import punctuation\n",
        "#from gensim.models import Word2Vec\n",
        "from sklearn.naive_bayes import MultinomialNB\n",
        "from sklearn.svm import SVC\n",
        "from sklearn.tree import DecisionTreeClassifier\n",
        "from sklearn.calibration import CalibratedClassifierCV\n",
        "from sklearn.ensemble import RandomForestClassifier, StackingClassifier, BaggingClassifier\n",
        "from sklearn.pipeline import make_pipeline\n",
        "from sklearn.neighbors import KNeighborsClassifier\n",
        "from sklearn.neural_network import MLPClassifier\n",
        "from sklearn.linear_model import LogisticRegression\n",
        "from sklearn.preprocessing import StandardScaler\n",
        "from sklearn.preprocessing import LabelEncoder\n",
        "from sklearn.feature_extraction.text import CountVectorizer, TfidfTransformer\n",
        "from sklearn.model_selection import train_test_split, cross_val_score, cross_val_predict,\\\n",
        "                         ShuffleSplit,StratifiedShuffleSplit, KFold, StratifiedKFold\n",
        "from sklearn.metrics import accuracy_score, confusion_matrix, f1_score\n",
        "from mlxtend.classifier import EnsembleVoteClassifier\n",
        "import nltk\n",
        "from nltk.tokenize import RegexpTokenizer\n",
        "from nltk.stem import WordNetLemmatizer\n",
        "nltk.download('stopwords')\n",
        "nltk.download('punkt')\n",
        "nltk.download('wordnet')\n",
        "nltk.download('punkt')\n",
        "nltk.download('rslp')"
      ],
      "execution_count": null,
      "outputs": [
        {
          "output_type": "stream",
          "text": [
            "Collecting Unidecode\n",
            "\u001b[?25l  Downloading https://files.pythonhosted.org/packages/d0/42/d9edfed04228bacea2d824904cae367ee9efd05e6cce7ceaaedd0b0ad964/Unidecode-1.1.1-py2.py3-none-any.whl (238kB)\n",
            "\u001b[K     |████████████████████████████████| 245kB 5.0MB/s \n",
            "\u001b[?25hInstalling collected packages: Unidecode\n",
            "Successfully installed Unidecode-1.1.1\n",
            "Requirement already satisfied: imbalanced-learn in /usr/local/lib/python3.6/dist-packages (0.4.3)\n",
            "Requirement already satisfied: numpy>=1.8.2 in /usr/local/lib/python3.6/dist-packages (from imbalanced-learn) (1.18.5)\n",
            "Requirement already satisfied: scipy>=0.13.3 in /usr/local/lib/python3.6/dist-packages (from imbalanced-learn) (1.4.1)\n",
            "Requirement already satisfied: scikit-learn>=0.20 in /usr/local/lib/python3.6/dist-packages (from imbalanced-learn) (0.22.2.post1)\n",
            "Requirement already satisfied: joblib>=0.11 in /usr/local/lib/python3.6/dist-packages (from scikit-learn>=0.20->imbalanced-learn) (0.17.0)\n"
          ],
          "name": "stdout"
        },
        {
          "output_type": "stream",
          "text": [
            "/usr/local/lib/python3.6/dist-packages/sklearn/externals/six.py:31: FutureWarning: The module is deprecated in version 0.21 and will be removed in version 0.23 since we've dropped support for Python 2.7. Please rely on the official version of six (https://pypi.org/project/six/).\n",
            "  \"(https://pypi.org/project/six/).\", FutureWarning)\n",
            "/usr/local/lib/python3.6/dist-packages/sklearn/utils/deprecation.py:144: FutureWarning: The sklearn.neighbors.base module is  deprecated in version 0.22 and will be removed in version 0.24. The corresponding classes / functions should instead be imported from sklearn.neighbors. Anything that cannot be imported from sklearn.neighbors is now part of the private API.\n",
            "  warnings.warn(message, FutureWarning)\n"
          ],
          "name": "stderr"
        },
        {
          "output_type": "stream",
          "text": [
            "[nltk_data] Downloading package stopwords to /root/nltk_data...\n",
            "[nltk_data]   Unzipping corpora/stopwords.zip.\n",
            "[nltk_data] Downloading package punkt to /root/nltk_data...\n",
            "[nltk_data]   Unzipping tokenizers/punkt.zip.\n",
            "[nltk_data] Downloading package wordnet to /root/nltk_data...\n",
            "[nltk_data]   Unzipping corpora/wordnet.zip.\n",
            "[nltk_data] Downloading package punkt to /root/nltk_data...\n",
            "[nltk_data]   Package punkt is already up-to-date!\n",
            "[nltk_data] Downloading package rslp to /root/nltk_data...\n",
            "[nltk_data]   Unzipping stemmers/rslp.zip.\n"
          ],
          "name": "stdout"
        },
        {
          "output_type": "execute_result",
          "data": {
            "text/plain": [
              "True"
            ]
          },
          "metadata": {
            "tags": []
          },
          "execution_count": 1
        }
      ]
    },
    {
      "cell_type": "code",
      "metadata": {
        "colab": {
          "base_uri": "https://localhost:8080/"
        },
        "id": "XR8PynIxdeT6",
        "outputId": "2462b5de-3667-44d1-8feb-063da311d071"
      },
      "source": [
        "from google.colab import drive\n",
        "drive.mount('/content/drive')\n",
        "path_modelos = '/content/drive/My Drive/Residencia/dev/Modelos_Treinamento/'\n",
        "path_modelos2 = '/content/drive/My Drive/Residencia/dev/Modelos_Treinados/'\n",
        "path_dev = '/content/drive/My Drive/Residencia/dev/'"
      ],
      "execution_count": null,
      "outputs": [
        {
          "output_type": "stream",
          "text": [
            "Mounted at /content/drive\n"
          ],
          "name": "stdout"
        }
      ]
    },
    {
      "cell_type": "code",
      "metadata": {
        "colab": {
          "base_uri": "https://localhost:8080/"
        },
        "id": "QG9L5etDmZaP",
        "outputId": "f160b95b-8113-450e-8e84-38c350eed600"
      },
      "source": [
        "#https://fasttext.cc/docs/en/support.html\n",
        "'''\n",
        "!pip install fasttext\n",
        "import fasttext\n",
        "import fasttext.util\n",
        "fasttext.util.download_model('pt')\n",
        "ft = fasttext.load_model('cc.pt.300.bin')'''"
      ],
      "execution_count": null,
      "outputs": [
        {
          "output_type": "execute_result",
          "data": {
            "application/vnd.google.colaboratory.intrinsic+json": {
              "type": "string"
            },
            "text/plain": [
              "\"\\n!pip install fasttext\\nimport fasttext\\nimport fasttext.util\\nfasttext.util.download_model('pt')\\nft = fasttext.load_model('cc.pt.300.bin')\""
            ]
          },
          "metadata": {
            "tags": []
          },
          "execution_count": 3
        }
      ]
    },
    {
      "cell_type": "code",
      "metadata": {
        "colab": {
          "base_uri": "https://localhost:8080/"
        },
        "id": "5SDzIHdiqtrJ",
        "outputId": "5595aa02-2d86-4684-8949-7de6bfd3d1ad"
      },
      "source": [
        "#http://nilc.icmc.usp.br/nilc/index.php/repositorio-de-word-embeddings-do-nilc\n",
        "'''!pip install gensim==2.0.0\n",
        "from gensim.models import KeyedVectors\n",
        "model = KeyedVectors.load_word2vec_format(‘model.txt’)'''"
      ],
      "execution_count": null,
      "outputs": [
        {
          "output_type": "execute_result",
          "data": {
            "application/vnd.google.colaboratory.intrinsic+json": {
              "type": "string"
            },
            "text/plain": [
              "'!pip install gensim==2.0.0\\nfrom gensim.models import KeyedVectors\\nmodel = KeyedVectors.load_word2vec_format(‘model.txt’)'"
            ]
          },
          "metadata": {
            "tags": []
          },
          "execution_count": 4
        }
      ]
    },
    {
      "cell_type": "markdown",
      "metadata": {
        "id": "f1TUNap5t_Ug"
      },
      "source": [
        "## Funções e constantes"
      ]
    },
    {
      "cell_type": "code",
      "metadata": {
        "id": "pR6aSvL0kdNE"
      },
      "source": [
        "lista_lt = ['li','lr','lit','litro', 'litros', 'ltr', 'l','lt', 'lts','ltrs']\n",
        "lista_kg = ['kg','kgs','quilo','quilos','kilos','kilos','kl','kgas','kga','kg1', 'kg3', 'kg2']\n",
        "lista_und = ['unidade','unidades','und','un','un0001','unid','un1','uni','un.','unid.','unidad','ud'] #,'lata','lat', 'embal','garraf','garrafa','rl'\n",
        "lista_pct = ['pcts','pct','pc','pc1','pact','pacote','pa','pcs']\n",
        "lista_cx = ['cx','caixa','cx20','cx12','cx48','cxs','cxa','cx24']\n",
        "lista_frd = ['fdo','fardo','frd','fd','fd12','fr','far','fd27','fdo']\n",
        "lista_m = ['metros','m','mts']\n",
        "lista_g = ['grama','gramas','g','gr','grs','gm']\n",
        "lista_sc = ['saco','sc']\n",
        "lista_geral = ['lt','kg','und','pct','cx','frd', 'sc', 'g','m','mg','cm','mm','ml']\n",
        "unidades = set(lista_lt+lista_kg+lista_und+lista_pct+lista_cx+lista_frd+lista_m+lista_g+lista_sc)\n",
        "pt_stopwords = set(nltk.corpus.stopwords.words(\"portuguese\"))\n",
        "punct = set(list(punctuation))\n",
        "pt_stopwords.update(punct)\n",
        "stopwords = set(['gtin','ok','tipo','data','fabricacao','fabricante','fabricado','fab','lote','lotes','marca','embalagem','emablagem','embalagens','embalados','bombona','gf','gl','frasco','fr','fc','sache','saches','sacher','sachet',\\\n",
        "                 'und','emb','marca','pct','pc','sc','fd','rl','lt','m2','m','cm','lata','pacote','pacotes','refil','rf','cx','pote','qtd','todo','cs','tp','endereco','sa','dr','mr','am','az','1a','1o','qualidade','vermelha','vermelho',\\\n",
        "                 'preta','preto','branco','bco','branca','amarelo','amarela','verde','azul','laranja','rosa','gold','cor','color','cores','colorido','sabor','sabores','variadas','variada','variados','sortido','sortida',\\\n",
        "                 'estrela','in','natura','lavanda','lavand','campo','floral','flor','flores','aerosol','aer','spray','sadia','ltda','becker','clarilux','pbl','liquido','liquida','liq','concentrado','conc','consentrado','marata','brw','totalplast','zap',\\\n",
        "                 'clean','material','office','oficio','capacidade','cap','volumetrica','premium','ultra','original','hospitalar','hosp','puro','sabor','galp','re','sadio','san','ville','vale','etilico','sodio','belo','grao',\\\n",
        "                 'instantaneo','masterprint','clara','air','fino','santa','sta','cruz','sao','braz','kimimo','hidracor','hidro','harpic','guarani','ype','marilux','neutro','rei','ouro','plastica','plastico','plast','plas',\\\n",
        "                 'pet','chanfrada','chanfradas','uht','comum','novo','real','base','tamanho','tam','flip','top','galao','tradicional','trad','nacional','classico','apresentacao','uso','domestico','bom','todo','algas','marinhas',\\\n",
        "                 'validade','val','entrega','meses','inpm','hidratado','brasil','br','bb','industria','industrial','seguinte','composicao','contendo','norma','abnt','simples','geral','coco','boldo','oo','pp','ps','lz',\\\n",
        "                 'pr','cc','pol','limpamil','serrano','ceramico','total','friato','carga','maio','marata','mizu','varias','fragancias', 'diversas','aplicacao,''limpeza','curimatau','leo','faber','castell','good','kuat',\\\n",
        "                 'camponesa','bry','escrita','esc','media','fina','grossa','choc','chocolate','morango','salgado','doce','economic','brilho','limpeza','antarctica','jalles','machado','nordestino','mainha','multiuso','alcoolica',\\\n",
        "                 'especial','betania','nobre','especificacao','comprimento','largura','vitamassa','camomila','limao','alm','nordeste','fruit','reciclado','recic','itaja','reforcado','refor','fibras','fibra','naturais','celulose'\\\n",
        "                 'celulosica','essencial','portland','super','grip','starlux','brilhotex','alice', 'mister','multi','acao','multiac','transp','transparente','lactose'])"
      ],
      "execution_count": null,
      "outputs": []
    },
    {
      "cell_type": "code",
      "metadata": {
        "colab": {
          "base_uri": "https://localhost:8080/",
          "height": 35
        },
        "id": "UyCBWUDt7xtN",
        "outputId": "cc747c14-8207-4e91-d124-a317ea353e93"
      },
      "source": [
        "'''teste = df_treino[df_treino['Produto']=='detergente concentrado gel 500ml cx 24 und']\n",
        "teste['xprod']=teste['Produto']\n",
        "teste = limpa_descricoes(teste,'xprod')\n",
        "teste'''"
      ],
      "execution_count": null,
      "outputs": [
        {
          "output_type": "execute_result",
          "data": {
            "application/vnd.google.colaboratory.intrinsic+json": {
              "type": "string"
            },
            "text/plain": [
              "\"teste = df_treino[df_treino['Produto']=='detergente concentrado gel 500ml cx 24 und']\\nteste['xprod']=teste['Produto']\\nteste = limpa_descricoes(teste,'xprod')\\nteste\""
            ]
          },
          "metadata": {
            "tags": []
          },
          "execution_count": 6
        }
      ]
    },
    {
      "cell_type": "code",
      "metadata": {
        "id": "tFwupm4p-9rV"
      },
      "source": [
        "# 12x500mlmr = mlmr e saco lixo pr 075x105x10100lt = sacolix pr lt\n",
        "# vassoura e rodo: cabo xxx\n",
        "def limpa_descricoes(df_produto, column):\n",
        "  \n",
        "  def remove_numeros_inicio(descr): \n",
        "    while ( (len(descr) > 1) and (descr.split()[0].isdigit()) ):\n",
        "      descr = ' '.join( descr.split()[1:] )\n",
        "    return descr\n",
        "  def remove_numeros_soltos(descr):\n",
        "    if bool(re.search(r'\\d[a-z]', descr)) and 'alcool' not in descr: #any(str.isdigit(word) for word in descr.split())\n",
        "      descr = re.sub(r'\\s((\\d+(\\.|\\,)\\d+)|\\d+)(\\s|$)',r' ',descr)    \n",
        "    return descr\n",
        "  \n",
        "  # aplica nulo a descr pequena (sem espaco: afto15ds30mlpar004-19fab06-19vec12-20lab:biovet)\n",
        "  df_produto.loc[:, column] = df_produto[column].apply(lambda x: x if len(x.split()) > 1 else np.NaN)\n",
        "  df_produto = df_produto.dropna(subset=[column])\n",
        "  #35-029.021.035- em inicios de descr\n",
        "  df_produto.loc[:, column] = df_produto[column].apply(lambda x: re.sub(r'\\d{2}-\\d{3}\\.\\d{3}\\.\\d{3}-',r'',x))\n",
        "  # l12p11\n",
        "  df_produto.loc[:, column] = df_produto[column].apply(lambda x: re.sub(r'(l\\d+p\\d+)|(l\\d+ p\\d+)|(ars\\d+)|para cafe',r'',x))\n",
        "  # remove lote\n",
        "  df_produto.loc[:, column] = df_produto[column].apply(lambda x: re.sub(r'(lote:|lote: )((\\d+\\.\\w+\\-\\d+)|(\\w+\\d+|\\d+\\,\\d+\\-\\d+)|(gn\\d+j\\d+))',r'',x))\n",
        "  df_produto.loc[:, column] = df_produto[column].apply(lambda x: re.sub(r'(lotes) (([a-z]\\d+ \\d+ \\d+)|(\\d+ \\d+ \\d+))',r'',x))\n",
        "  # remove padrão de endereço  u01galp4seb, u01galp1se\"e01\", u01galp1lote2, u01galp1sea01\n",
        "  df_produto.loc[:, column] = df_produto[column].apply(lambda x: re.sub(r'\\bu01[a-z0-9]*',r'',x))\n",
        "  # remove validade val:07/2022\n",
        "  df_produto.loc[:, column] = df_produto[column].apply(lambda x: re.sub(r'(\\d{2}\\/\\d{4})|(\\d{4}-\\d{2}-\\d{2})|\\d{2}\\/\\d{2}\\/\\d{4}',r'',x))\n",
        "  # insere espaco apos / . e - pra no final nao ficar palavras assim: csolucao, ptexto defliq (originais eram c/solucao, p-texto, def.liqu) \n",
        "  df_produto.loc[:, column] = df_produto[column].apply(lambda descr: re.sub(r'/|-|:',r' ', descr))\n",
        "  # retira . entre palavras tipo det.liqu \n",
        "  df_produto.loc[:, column] = df_produto[column].apply(lambda x: ' '.join( [re.sub(r'\\.|\\,',r' ', word) if '.' in word or ',' in word and not any(char.isdigit() for char in word) else word for word in x.split()] ) )\n",
        "  # limpa sentencas retirando stopwords e deixa minusculo.\n",
        "  df_produto.loc[:, column] = [ ' '.join([word.lower() for word in descr.split() if word.lower() not in pt_stopwords]) for descr in df_produto[column].astype(str)]\n",
        "  # retira pontuacao (com exceção de virgula e ponto dos numeros):\n",
        "  df_produto.loc[:, column] = df_produto[column].apply(lambda x: ''.join(re.findall('\\d+\\.\\d+|\\d+\\,\\d+|\\w|\\s', x)))\n",
        "  # insere espaco apos numero e letra (separa unidades de medida:) ex.: 500ml vs 100ml vs 500mg\n",
        "  df_produto.loc[:, column] = df_produto[column].apply(lambda x: re.sub(r'(\\d+)([A-Za-z])',r'\\1 \\2',x))\n",
        "  # insere espaco apos letra e numero ex.:c100 pc50\n",
        "  df_produto.loc[:, column] = df_produto[column].apply(lambda x: re.sub(r'([A-Za-z]{1})(\\d+)',r'\\1 \\2',x))\n",
        "  # retira espacos duplicados\n",
        "  df_produto.loc[:, column] = df_produto[column].apply(lambda x: re.sub(r' +',r' ', x))\n",
        "  # retira espaco no inicio da frase\n",
        "  df_produto.loc[:, column] = df_produto[column].apply(lambda x: x.strip())\n",
        "  # retira acentos:\n",
        "  df_produto.loc[:, column] = df_produto[column].apply(lambda x: unidecode.unidecode(x))\n",
        "  # remove numeros mt longos\n",
        "  df_produto.loc[:, column] = df_produto[column].apply(lambda x: re.sub(r'\\d{5,}',r'',x))\n",
        "  # remove zeros a esquerda de numeros (02 litros, 05, etc.) caso não tenha , e . \n",
        "  df_produto.loc[:, column] = df_produto[column].apply(lambda x: ' '.join( [word2.lstrip('0') for word2 in x.split()] if not any(bool(re.search(r',|\\.', word)) for word in x.split()) else [word2 for word2 in x.split()]) )\n",
        "  # nulo descr vazia\n",
        "  df_produto.loc[:, column] = df_produto[column].replace('^\\s*$|^$', np.NaN, regex=True)\n",
        "  df_produto = df_produto.dropna(subset=[column])\n",
        "  # muda l e lts e litros por lt\n",
        "  df_produto.loc[:, column] = df_produto[column].apply(lambda x: re.sub(r' lts | ltrs | litros | litro | lito | li | l ', r' lt ', x))\n",
        "  df_produto.loc[:, column] = df_produto[column].apply(lambda x: re.sub(r' kgs | kilos | kilo | quilos | quilo | kgas | kga | kl | k ', r' kg ', x))\n",
        "  df_produto.loc[:, column] = df_produto[column].apply(lambda x: re.sub(r' grama | gramas | grams | grs | gr | gm ', r' g ', x))\n",
        "  df_produto.loc[:, column] = df_produto[column].apply(lambda x: re.sub(r'(\\d) (folhas|folha|flhas|fls|f) ',r'\\1fl ',x))\n",
        "  df_produto.loc[:, column] = df_produto[column].apply(lambda x: re.sub(r' rolos | rolo | rls | rol | ro ', r' rl ', x))\n",
        "  df_produto.loc[:, column] = df_produto[column].apply(lambda x: re.sub(r' metros | metro | mtrs | mts | mt ', r' m ', x))\n",
        "  df_produto.loc[:, column] = df_produto[column].apply(lambda x: re.sub(r' unidades | unidade | unids | un | unid | uni | unds ', r' und ', x))\n",
        "  df_produto.loc[:, column] = df_produto[column].apply(lambda x: re.sub(r' caixas | caixa | cxa ', r' cx ', x))\n",
        "  df_produto.loc[:, column] = df_produto[column].apply(lambda x: re.sub(r' fardos | fardo | fard | frd | frd | fdo ', r' fd ', x))\n",
        "  # muda l e lts por lt se for no final de frase\n",
        "  df_produto.loc[:, column] = df_produto[column].apply(lambda x: x  if x.split()[-1] not in ['l', 'li','lts','lito','litro','litros','ltrs'] else ' '.join((' '.join(x.split()[:-1]), 'lt')))\n",
        "  df_produto.loc[:, column] = df_produto[column].apply(lambda x: x  if x.split()[-1] not in ['kgs', 'kga', 'kilos','kilo','quilos', 'quilo','kl','k'] else ' '.join((' '.join(x.split()[:-1]), 'kg')))\n",
        "  df_produto.loc[:, column] = df_produto[column].apply(lambda x: x  if x.split()[-1] not in ['gramas', 'grama','grams','grs','gr','gm'] else ' '.join((' '.join(x.split()[:-1]), 'g')))\n",
        "  df_produto.loc[:, column] = df_produto[column].apply(lambda x: x  if x.split()[-1] not in ['folhas', 'folha','flhas','f','fls'] else ' '.join((' '.join(x.split()[:-1]), 'fl')))\n",
        "  df_produto.loc[:, column] = df_produto[column].apply(lambda x: x  if x.split()[-1] not in ['rolos', 'rolo','rls','rol','ro'] else ' '.join((' '.join(x.split()[:-1]), 'rl')))\n",
        "  df_produto.loc[:, column] = df_produto[column].apply(lambda x: x  if x.split()[-1] not in ['metro', 'metros','mtrs','mts','mt'] else ' '.join((' '.join(x.split()[:-1]), 'm')))\n",
        "  df_produto.loc[:, column] = df_produto[column].apply(lambda x: x  if x.split()[-1] not in ['unids', 'unid','un','unidade','unidades','uni','unds'] else ' '.join((' '.join(x.split()[:-1]), 'und')))\n",
        "  df_produto.loc[:, column] = df_produto[column].apply(lambda x: x  if x.split()[-1] not in ['caixas', 'caixa','cxa'] else ' '.join((' '.join(x.split()[:-1]), 'cx')))\n",
        "  df_produto.loc[:, column] = df_produto[column].apply(lambda x: x  if x.split()[-1] not in ['fardos','fardo', 'fard','frd','fdo'] else ' '.join((' '.join(x.split()[:-1]), 'fd')))\n",
        "  # substitui 1000ml por 1l se vier só 1000 some\n",
        "  df_produto.loc[:, column] = df_produto[column].apply(lambda x: re.sub(r'(\\d)(000 ml|.000 ml)',r'\\1lt',x))\n",
        "  # junta numeros antes de apagar fardo com \\d (ex:papel higienico fardo c/ 16x4 novo = papelhigien 4\n",
        "  df_produto.loc[:, column] = df_produto[column].apply(lambda x: re.sub(r'(\\d+) (x|\\*) (\\d+)',r'\\1\\2\\3',x)) # 10 x 100g: 10x100g (para remover 10 dps)\n",
        "  df_produto.loc[:, column] = df_produto[column].apply(lambda x: re.sub(r'(\\d+) (w) (\\d+)',r'\\1\\2\\3',x)) #oleos\n",
        "  #subtitu o por 0 em casos de unidades de medidas: 5 ooml = 500ml ou 2o l = 20lt\n",
        "  df_produto.loc[:, column] = df_produto[column].apply(lambda x: re.sub(r'(\\d+) (o+)(lt|kg|ml|mm|m|mls|mg|cm|g|fl|rl|und)(\\s|$)|(\\d+) (o+) (lt|kg|ml|mm|m|mls|mg|cm|g|fl|rl|und)(\\s|$)',r'\\1\\2\\3',x))\n",
        "  df_produto.loc[:, column] = df_produto[column].apply(lambda x: re.sub(r'(\\d+)(o)(lt|kg|ml|mm|m|mls|mg|cm|g|fl|rl|und)(\\s|$)',r'\\g<1>0\\g<3>',x))\n",
        "  df_produto.loc[:, column] = df_produto[column].apply(lambda x: re.sub(r'(d+)(o{2})(lt|kg|ml|mm|m|mls|mg|cm|g|fl|rl|und)(\\s|$)',r'\\g<1>00\\g<3>',x))\n",
        "  #específicos classes: papel hig 16x4, feijão fava branca papel peso 60 \n",
        "  df_produto.loc[:, column] = df_produto[column].apply(lambda x: re.sub(r'16x4',r'64rl',x) if 'rl' not in x else re.sub(r'16x4',r'64',x) )\n",
        "  #df_produto.loc[:, column] = df_produto[column].apply(lambda x: re.sub(r'branca',r'',x) if 'feijao' in x else x) \n",
        "  # remove espaço com unidades\n",
        "  df_produto.loc[:, column] = df_produto[column].apply(lambda x: re.sub(r'(\\d+) (lt|kg|ml|mm|m|mls|mg|cm|g|fl|rl|und|furos|furo)(\\s|$)',r'\\1\\2 ',x))\n",
        "  # remove quantidade tipo cx c 12 und\n",
        "  df_produto.loc[:, column] = df_produto[column].apply(lambda x: re.sub(r'(cx|fd)(\\sc\\s|\\scom\\s|)((\\d+(\\.|\\,)\\d+)\\s|\\d+\\s)(und|resmas|resma)',r' ',x))\n",
        "  df_produto.loc[:, column] = df_produto[column].apply(lambda x: re.sub(r'(cx|fd)(\\sc\\s|\\scom\\s)((\\d+(\\.|\\,)\\d+)|\\d+) ',r' ',x))\n",
        "  # se primeira palavra for numero apaga (checa varias vezes)\n",
        "  df_produto.loc[:, column] = df_produto[column].apply(lambda x: remove_numeros_inicio(x))\n",
        "  # apaga 40.00 kg\n",
        "  df_produto.loc[:,column] = df_produto[column].apply(lambda x: re.sub(r'(\\d+(\\.|\\,)\\d+)(kg|und)',r'',x))\n",
        "  # remove espaços específicos\n",
        "  #df_produto.loc[:, column] = df_produto[column].apply(lambda x: re.sub(r'(\\d) (m) (\\d)',r'\\1\\2\\3',x)) # 10m3 0,7m3\n",
        "  #df_produto.loc[:, column] = df_produto[column].apply(lambda x: re.sub(r'0,7m3',r'7m3',x))\n",
        "  df_produto.loc[:, column] = df_produto[column].apply(lambda x: re.sub(r' bs ',r' b s ',x)) # conserta diesel b s 500\n",
        "  df_produto.loc[:, column] = df_produto[column].apply(lambda x: re.sub(r' (s) ((500)|(10))',r' \\1\\2',x)) # conserta diesel b s500\n",
        "  df_produto.loc[:, column] = df_produto[column].apply(lambda x: re.sub(r' a 4',r' a4',x))\n",
        "  df_produto.loc[:, column] = df_produto[column].apply(lambda x: re.sub(r' (n) (\\d)',r'',x))\n",
        "  df_produto.loc[:, column] = df_produto[column].apply(lambda x: re.sub(r'saco (plastico|plast|p|plastico p|plast p) ',r'saco',x))\n",
        "  df_produto.loc[:, column] = df_produto[column].apply(lambda x: re.sub(r' gel ',r' ',x) if 'detergente' in x or 'deterg' in x else x)\n",
        "  df_produto.loc[:, column] = df_produto[column].apply(lambda x: re.sub(r'(peso) (\\d+)',r'\\1\\2',x) if 'papel' in x else x)\n",
        "  df_produto.loc[:, column] = df_produto[column].apply(lambda x: re.sub(r'(tipo|tip) (\\d+) ',r' ',x) if 'arroz' in x else x)\n",
        "  df_produto.loc[:, column] = df_produto[column].apply(lambda x: re.sub(r'vinagre alcool',r'vinagre',x))\n",
        "  #6,5x10x20cm e 19x19x09 \n",
        "  df_produto.loc[:, column] = df_produto[column].apply(lambda x: re.sub(r'((\\d+(\\.|\\,)\\d+)|\\d+)(x|\\*)(\\d+)(x|\\*)(\\d+)(\\s|$)',r'', x))\n",
        "  df_produto.loc[:, column] = df_produto[column].apply(lambda x: re.sub(r'((\\d+(\\.|\\,)\\d+)|\\d+)(x|\\*)(\\d+)(x|\\*)(\\d+)(lt|kg|ml|mm|m|mls|mg|cm|g|fl|rl|und|furos|furo)',r'', x))\n",
        "  #remove qtd comprada 200x de 200x300ml se n for papel hig\n",
        "  df_produto.loc[:, column] = df_produto[column].apply(lambda x: re.sub(r'((\\d+(\\.|\\,)\\d+)|\\d+)(x|\\*)(\\d+)(lt|kg|ml|mm|m|mls|mg|cm|g|fl|rl|und|furos|furo)',r'\\5\\6', x) if 'hig' not in x else x)\n",
        "  df_produto.loc[:, column] = df_produto[column].apply(lambda x: re.sub(r'((\\d+(\\.|\\,)\\d+)|\\d+)(x|\\*)(\\d+)((lt|kg|ml|mm|m|mls|mg|cm|g|fl|rl|und)|\\s)',r'\\1rl', x) if 'hig' in x and not bool(re.search(r'(\\d)(rl)', x)) else x)\n",
        "  #c 8 (trata papel hig) ou 4un \n",
        "  df_produto.loc[:, column] = df_produto[column].apply(lambda x: re.sub(r' (c|com|cx|qtd) (\\d+|(\\d+(\\.|\\,)\\d+))(\\s|$)',r' ', x) if 'papel' not in x else re.sub(r' (c|com|qtd) (\\d+|(\\d+(\\.|\\,)\\d+))(\\s|$)',r' \\2rl ', x))\n",
        "  df_produto.loc[:, column] = df_produto[column].apply(lambda x: re.sub(r' (\\d+|(\\d+(\\.|\\,)\\d+))(und)(\\s|$)',r' \\1rl ', x) if 'hig' in x else x)  \n",
        "  df_produto.loc[:, column] = df_produto[column].apply(lambda x: re.sub(r'((\\d+(\\.|\\,)\\d+)|\\d+)(x|\\*)(\\d+)(\\s|$)',r'', x) if bool(re.search(r'\\d(lt|kg|ml|mm|m|mls|mg|cm|g|fl|rl|und|furos|furo)', x)) else re.sub(r'(\\d+)(x|\\*)(\\d+)',r'\\3', x) if 'fl' not in x else re.sub(r'(\\d+)(x|\\*)(\\d+)',r'\\3fl', x))\n",
        "  # apaga dimensoes 30mx10mm\n",
        "  df_produto.loc[:, column] = df_produto[column].apply(lambda x: re.sub(r'(\\d+|(\\d+(\\.|\\,)\\d+)) (lt|kg|ml|mm|m|mls|mg|cm|g|fl|rl|und|furos|furo)(x|\\*) (\\d+|(\\d+(\\.|\\,)\\d+))(lt|kg|ml|mm|m|mls|mg|cm|g|fl|rl|und|furo|furo)',r'',x))\n",
        "  #df_produto.loc[:, column] = df_produto[column].apply(lambda x: re.sub(r'(\\d+|(\\d+(\\.|\\,)\\d+))(lt|kg|ml|mm|m|mls|mg|cm|g|fl|rl|und)(x|\\*)(\\d+|(\\d+(\\.|\\,)\\d+))(lt|kg|ml|mm|m|mls|mg|cm|g|fl|rl|und)',r'',x))\n",
        "  #100mm x 70mm x 20mm \n",
        "  df_produto.loc[:, column] = df_produto[column].apply(lambda x: re.sub(r'(\\d+)(lt|kg|ml|mm|m|mls|mg|cm|g|fl|rl|und|furos|furo) (x|\\*) (\\d+)(lt|kg|ml|mm|m|mls|mg|cm|g|fl|rl|und) (x|\\*) (\\d+)(lt|kg|ml|mm|m|mls|mg|cm|g|fl|rl|und|furos|furo)|(\\d+)(x|\\*)(\\d+)$',r'', x))\n",
        "  df_produto.loc[:, column] = df_produto[column].apply(lambda x: re.sub(r'(\\d+) (lt|kg|ml|mm|m|mls|mg|cm|g|fl|rl|und|furos|furo)(x|\\*) ((\\d+) (lt|kg|ml|mm|m|mls|mg|cm|g|fl|rl|und)(x|\\*)|)(\\s|)(\\d+)(lt|kg|ml|mm|m|mls|mg|cm|g|fl|rl|und|furos|furo)',r'',x)) \n",
        "  #apaga mais dimensões\n",
        "  df_produto.loc[:, column] = df_produto[column].apply(lambda x: re.sub(r'(\\d+)(mm|m |m$|cm)',r'',x)) \n",
        "  # 75g 500 (folhas)\n",
        "  df_produto.loc[:, column] = df_produto[column].apply(lambda x: re.sub(r' (500)(\\s|$)',r' \\1fl',x) if 'papel' in x else x) \n",
        "  # apaga numeros soltos em caso de haver número com unidade 50ml e não apaga caso não haja \n",
        "  df_produto.loc[:, column] = df_produto[column].apply(lambda x: remove_numeros_soltos(x))\n",
        "  #apaga und se não for a unidade de medida da descr\n",
        "  df_produto.loc[:, column] = df_produto[column].apply(lambda x: re.sub(r'(\\d+)(und)',r'',x))# if bool(re.search(r'\\d(lt|kg|ml|mm|m|mls|mg|cm|g|fl|rl|furo|furos)(\\s|$)', x)) else x )\n",
        "  df_produto.loc[:, column] = df_produto[column].apply(lambda x: re.sub(r'(\\d+)(g)',r'',x) if bool(re.search(r'\\d(lt|kg|fl|rl|furo|furos)(\\s|$)', x)) else x )\n",
        "  # substitui palavras repetidas kg kg por kg\n",
        "  df_produto.loc[:, column] = df_produto[column].apply(lambda x: re.sub(r'\\b(\\w+)\\s+\\1\\b',r'\\1',x))\n",
        "  # retira espacos duplicados e strip (2)\n",
        "  df_produto.loc[:, column] = df_produto[column].apply(lambda x: re.sub(r' +',r' ', x))\n",
        "  df_produto.loc[:, column] = df_produto[column].apply(lambda x: x.strip())\n",
        "  # remove combinações de palavras específicas\n",
        "  df_produto.loc[:, column] = df_produto[column].apply(lambda x: re.sub(r'(erva|3|longa|100|pronto|zero|aspecto|uso|vitaminas|leao|arte|2|latex|dona|tampa|corpo|folha|folhas|germicida|alta|materia|dona|acidos|teor|acido|limp|pirilampo|tampa|limpa) (doce|bem|coracoes|vida|algodao|uso|lactose|cal|fisico|geral|minerais|fuze|feliz|dobras|natural|limpeza|bico|madeira|simples|dupla|duplas|bactericida|resistencia|prima|clara|graxos|alcoolico|folico|fort|ecole|lacrada|mil)',r'',x))\n",
        "  # limpa palavras novamente\n",
        "  pt_stopwords.update(stopwords)\n",
        "  df_produto.loc[:, column] = [ ' '.join([word for word in descr.split() if word.lower() not in pt_stopwords]) for descr in df_produto[column].astype(str)]\n",
        "  # junta combinações de palavras específicas\n",
        "  df_produto.loc[:, column] = df_produto[column].apply(lambda x: re.sub(r'(sabao|sab|det|deterg|detergente|tinta|achocolatado|achoc|farinha|colorau|coloral|colorifico|extra|ponta|multi|dupla|marca|coca|motor|madeira|saco|sacos|cesto|agua|total|pinho|star|lustra|leite|bom|copo|copos|papel|toalha|super|anti|pre|lapis|lava|flocos|oleo|polpa|filtro|creme) (barra|po|forte|trigo|agulha|uso|face|texto|cola|diesel|macica|lixo|sanitaria|sanit|plast|sol|lux|mov|movel|moveis|ar|desc|descart|descartavel|descartaveis|a4|sulfite|higienico|hig|toalha|papel|cal|septico|cozido|grafite|graf|cor|louca|loucas|roupa|roupas|piso|pisos|milho|soja|fruta|frutas|leite)(\\s|$)',r'\\1\\2 ',x)) \n",
        "  # apaga caracteres pequenos se n estiver nas condições\n",
        "  df_produto.loc[:, column] = df_produto[column].apply(lambda x: ' '.join([word for word in x.split() if len(word) > 1 or word.isdigit() or word in lista_geral]))\n",
        "  # aplica nulo a descr pequena\n",
        "  df_produto.loc[:, column] = df_produto[column].apply(lambda x: x if len(x.split()) > 1 else np.NaN)\n",
        "  df_produto = df_produto.dropna(subset=[column])\n",
        "  # limita descr a 8\n",
        "  df_produto.loc[:, column] = df_produto[column].apply(lambda x: ' '.join(x.split()[:8]))\n",
        "\n",
        "  return df_produto"
      ],
      "execution_count": null,
      "outputs": []
    },
    {
      "cell_type": "code",
      "metadata": {
        "id": "F2e17rszPmFd"
      },
      "source": [
        "def grava(obj, filename):\n",
        "    with open(filename, 'wb') as pkl_file:\n",
        "      pickle.dump(obj, pkl_file)\n",
        "\n",
        "def abre(filename):\n",
        "    with open(filename, 'rb') as pkl_file:\n",
        "      obj = pickle.load(pkl_file)\n",
        "      return obj\n",
        "\n",
        "def pre_processing_pln(df, column):\n",
        "    \n",
        "    lemmatizer=WordNetLemmatizer()\n",
        "    stemmer = nltk.stem.RSLPStemmer()\n",
        "\n",
        "    df[column] = df[column].apply(lambda x: ' '.join([ lemmatizer.lemmatize(item) for item in x.split() ] ))\n",
        "    df[column] = df[column].apply(lambda x: ' '.join([ stemmer.stem(item) for item in x.split()] ))\n",
        "\n",
        "    return df\n",
        "\n",
        "def calc_preco(df, grupos, descricoes):\n",
        "\n",
        "  groupos_id = []\n",
        "  group_names = []\n",
        "  media = []\n",
        "  mediana = []\n",
        "  media_saneada = []\n",
        "  precos_max = []\n",
        "  precos_min = []\n",
        "    \n",
        "  for i, grupo in enumerate(grupos):\n",
        "    df_grupo = df[df['classe'] == grupo]\n",
        "\n",
        "    #S = E – M sobrepreço estimado - referencial mercado\n",
        "    media.append(round(df_grupo['vuncom'].mean(),3))\n",
        "    mediana.append(round(df_grupo['vuncom'].median(),3))\n",
        "    nova_media, preco_max, preco_min = calc_media_saneada(df_grupo)\n",
        "    \n",
        "    media_saneada.append(nova_media)\n",
        "    precos_max.append(preco_max)\n",
        "    precos_min.append(preco_min)\n",
        "\n",
        "    descricao = descricoes[i]\n",
        "    group_names.append(descricao)\n",
        "    \n",
        "    groupos_id.append(i+1)\n",
        "\n",
        "  df_precos = pd.DataFrame(zip(groupos_id, group_names, media, mediana, precos_max, precos_min, media_saneada),\\\n",
        "                            columns=[\"id\",\"Classe\", \"Media\", \"Mediana\", \"Max\", \"Min\", \"Media Saneada\"])\n",
        "\n",
        "  df_precos = df_precos.round(2)\n",
        "  df_precos['Media'] = df_precos['Media'].astype(str).str.replace('.',\",\")  \n",
        "  df_precos['Mediana'] = df_precos['Mediana'].astype(str).str.replace('.',\",\")  \n",
        "  df_precos['Max'] = df_precos['Max'].astype(str).str.replace('.',\",\")  \n",
        "  df_precos['Min'] = df_precos['Min'].astype(str).str.replace('.',\",\")  \n",
        "  df_precos['Media Saneada'] = df_precos['Media Saneada'].astype(str).str.replace('.',\",\")\n",
        "\n",
        "  df_precos.set_index('id', inplace=True)\n",
        "  #load precos filename\n",
        "  df_precos.to_csv('precos_produtos.csv', encoding='utf-8-sig')\n",
        "\t\n",
        "\n",
        "def calc_media_saneada(df):\n",
        "  '''\n",
        "  '''\n",
        "  preco = df['vuncom']\n",
        "  preco_max = max(preco)\n",
        "  preco_min = min(preco)\n",
        "  preco_mean = preco.mean()\n",
        "  LS = preco_mean + preco.std()\n",
        "  LI = preco_mean - preco.std()\t\t\n",
        "  CV = abs(preco.std() / preco_mean)\n",
        "\n",
        "  if CV > 0.25:\n",
        "    precos = preco[preco.between(LI, LS)]\n",
        "    return (precos.mean(), preco_max, preco_min)\n",
        "  else:\n",
        "    return (preco_mean, preco_max, preco_min)\n",
        "\n",
        "\n",
        "def reindex_grupos(df):\n",
        "  classes = df['classe'].unique().tolist()\n",
        "  classes.sort()\n",
        "  reindex={}\n",
        "  for i, classe in enumerate(classes):\n",
        "    reindex[classe] = i+1\n",
        "  df['classe'] = df['classe'].map(reindex)\n",
        "  \n",
        "  return df"
      ],
      "execution_count": null,
      "outputs": []
    },
    {
      "cell_type": "markdown",
      "metadata": {
        "id": "Qn3Wf6npdnVV"
      },
      "source": [
        "## Obtem dados"
      ]
    },
    {
      "cell_type": "code",
      "metadata": {
        "colab": {
          "base_uri": "https://localhost:8080/"
        },
        "id": "ZQv-5gWO8PLB",
        "outputId": "69398ef9-6c34-4cea-c2fa-9355ebcd9d2d"
      },
      "source": [
        "df = pd.read_csv('produtos.csv')\n",
        "df_produtos = pd.read_csv('produtos_classes.csv')\n",
        "df_produtos.rename(columns={'classificacao': 'definicao', 'xprod':'Produto'}, inplace=True)\n",
        "df['Produto'] = df['xprod']\n",
        "df = limpa_descricoes(df, 'xprod')\n",
        "grava(df, path_dev+'produtos.pkl')\n",
        "grava(df_produtos, path_dev+'produtos_classes.pkl')"
      ],
      "execution_count": null,
      "outputs": [
        {
          "output_type": "stream",
          "text": [
            "/usr/local/lib/python3.6/dist-packages/pandas/core/indexing.py:1743: SettingWithCopyWarning: \n",
            "A value is trying to be set on a copy of a slice from a DataFrame.\n",
            "Try using .loc[row_indexer,col_indexer] = value instead\n",
            "\n",
            "See the caveats in the documentation: https://pandas.pydata.org/pandas-docs/stable/user_guide/indexing.html#returning-a-view-versus-a-copy\n",
            "  isetter(ilocs[0], value)\n"
          ],
          "name": "stderr"
        }
      ]
    },
    {
      "cell_type": "code",
      "metadata": {
        "colab": {
          "base_uri": "https://localhost:8080/"
        },
        "id": "gJc0dbccPOTv",
        "outputId": "f737e97a-797b-417f-a8a5-a712dfdad0b4"
      },
      "source": [
        "'''df = abre(path_dev+'produtos.pkl')\n",
        "df_produtos = abre(path_dev+'produtos_classes.pkl')'''\n",
        "print(f'Produtos classificados: {len(df_produtos)}')\n",
        "print(f'Produtos em sua distribuição original: {len(df)}')"
      ],
      "execution_count": null,
      "outputs": [
        {
          "output_type": "stream",
          "text": [
            "Produtos classificados: 25036\n",
            "Produtos em sua distribuição original: 733856\n"
          ],
          "name": "stdout"
        }
      ]
    },
    {
      "cell_type": "code",
      "metadata": {
        "colab": {
          "base_uri": "https://localhost:8080/"
        },
        "id": "SsOwUWmPD7_z",
        "outputId": "e9fb9ef5-6a70-4fd5-bfb8-61f0983e2e97"
      },
      "source": [
        "#aplica classificações de unique à distribuição original\n",
        "df['definicao'] = df['Produto'].apply(lambda x: df_produtos.iloc[df_produtos.index[df_produtos['Produto'] == x].tolist()[0]]['definicao'] if x in df_produtos.Produto.values else np.NaN)\n",
        "df_test = df[df['definicao'].isna()]\n",
        "df_test = df_test.drop_duplicates(subset='xprod')\n",
        "df = df[~df['definicao'].isna()]\n",
        "df_test['definicao'] = 1000\n",
        "print(f\"'Outros' fora de treinamento e validação: {len(df_test)}\")"
      ],
      "execution_count": null,
      "outputs": [
        {
          "output_type": "stream",
          "text": [
            "'Outros' fora de treinamento e validação: 177864\n"
          ],
          "name": "stdout"
        }
      ]
    },
    {
      "cell_type": "code",
      "metadata": {
        "colab": {
          "base_uri": "https://localhost:8080/"
        },
        "id": "h93w-fR5ERyq",
        "outputId": "35e6cd73-9023-4cda-96d0-8774cee1f01e"
      },
      "source": [
        "#Filtrar por qtd de amostras total\n",
        "class_size = 350\n",
        "counts = df['definicao'].value_counts()\n",
        "df = df[df['definicao'].isin(counts[counts > class_size].index)]\n",
        "print(len(df['xprod'].unique().tolist()))\n",
        "print(f\"{len(df['definicao'].unique().tolist())} classes de produtos\")"
      ],
      "execution_count": null,
      "outputs": [
        {
          "output_type": "stream",
          "text": [
            "9100\n",
            "99 classes de produtos\n"
          ],
          "name": "stdout"
        }
      ]
    },
    {
      "cell_type": "code",
      "metadata": {
        "id": "A4FG6DXGDtRW"
      },
      "source": [
        "le = LabelEncoder()\n",
        "df['definicao_texto'] = df['definicao']\n",
        "df.definicao = le.fit_transform(df.definicao_texto)"
      ],
      "execution_count": null,
      "outputs": []
    },
    {
      "cell_type": "code",
      "metadata": {
        "colab": {
          "base_uri": "https://localhost:8080/"
        },
        "id": "rdq-WYAQEC3L",
        "outputId": "9dff774a-2601-4d90-b10b-7a82fad27899"
      },
      "source": [
        "#Filtra classes\n",
        "df = df.loc[~df.definicao.isin(le.transform(['abacaxi','mamão','melão','melancia','banana', 'cebola','tomate','cenoura','chuchu',\\\n",
        "                                             'batata doce','jerimum','pimentão','brita/cascalho para construção','dipirona 500mg','cola branca 90g',\\\n",
        "                                             'oxigênio medicinal 10m3','oxigênio medicinal 7m3','unidade de evaporadora split 12k','unidade de evaporadora split 9k',\\\n",
        "                                             'gasolina aditivada','diesel s-10','diesel s-500','rodo','vassoura']).tolist())] #goiaba, laranja beterraba gasolina comum\n",
        "df.definicao = le.fit_transform(df.definicao_texto)\n",
        "grava(le, path_dev+'le.pkl')\n",
        "print(f\"{len(df['definicao'].unique().tolist())} classes de produtos\")"
      ],
      "execution_count": null,
      "outputs": [
        {
          "output_type": "stream",
          "text": [
            "75 classes de produtos\n"
          ],
          "name": "stdout"
        }
      ]
    },
    {
      "cell_type": "code",
      "metadata": {
        "colab": {
          "base_uri": "https://localhost:8080/"
        },
        "id": "XatynRLU4554",
        "outputId": "54850436-891f-4443-d709-1cc895152b72"
      },
      "source": [
        "descricoes = le.classes_\n",
        "grupos = le.transform(le.classes_)\n",
        "classes = df['definicao'].unique().tolist()\n",
        "class_to_descr = {i:descricoes[i] for i in sorted(classes)}\n",
        "class_to_descr"
      ],
      "execution_count": null,
      "outputs": [
        {
          "output_type": "execute_result",
          "data": {
            "text/plain": [
              "{0: 'achocolatado em pó 400g',\n",
              " 1: 'adoçante 100ml',\n",
              " 2: 'aromatizador de ambiente 360ml',\n",
              " 3: 'aromatizador de ambiente 400ml',\n",
              " 4: 'arroz 1kg',\n",
              " 5: 'açúcar cristal 1kg',\n",
              " 6: 'açúcar refinado 1kg',\n",
              " 7: 'bebida láctea 1lt',\n",
              " 8: 'biscoito cream cracker 400g',\n",
              " 9: 'biscoito maizena 400g',\n",
              " 10: 'biscoito maria 400g',\n",
              " 11: 'café 250g',\n",
              " 12: 'cal hidratada 5kg',\n",
              " 13: 'caneta esferográfica',\n",
              " 14: 'caneta marca texto',\n",
              " 15: 'carne bovina',\n",
              " 16: 'carne de charque',\n",
              " 17: 'carne de sol',\n",
              " 18: 'carne moída',\n",
              " 19: 'chá 10g',\n",
              " 20: 'cimento 50kg',\n",
              " 21: 'colorau 100g',\n",
              " 22: 'copo descartável 150ml',\n",
              " 23: 'copo descartável 180ml',\n",
              " 24: 'copo descartável 50ml',\n",
              " 25: 'costela bovina',\n",
              " 26: 'coxa e sobrecoxa de frango',\n",
              " 27: 'creme de leite 200g',\n",
              " 28: 'desinfetante 1lt',\n",
              " 29: 'desinfetante 2lt',\n",
              " 30: 'desinfetante 500ml',\n",
              " 31: 'desinfetante 5lt',\n",
              " 32: 'detergente líquido 500ml',\n",
              " 33: 'esponja dupla face',\n",
              " 34: 'farinha de milho flocada 500g',\n",
              " 35: 'farinha de trigo 1kg',\n",
              " 36: 'feijão 1kg',\n",
              " 37: 'frango inteiro',\n",
              " 38: 'gás glp 13kg',\n",
              " 39: 'leite condensado 395g',\n",
              " 40: 'leite em pó 200g',\n",
              " 41: 'leite em pó integral 200g',\n",
              " 42: 'leite integral 1lt',\n",
              " 43: 'limpa vidros 500ml',\n",
              " 44: 'lustra móveis 200ml',\n",
              " 45: 'luva cirúrgica estéril',\n",
              " 46: 'lápis grafite',\n",
              " 47: 'macarrão espaguete 500g',\n",
              " 48: 'margarina 500g',\n",
              " 49: 'pano de prato',\n",
              " 50: 'papel higiênico c/4 rolos',\n",
              " 51: 'papel higiênico c/64 rolos',\n",
              " 52: 'papel toalha c/2 rolos',\n",
              " 53: 'peito de frango',\n",
              " 54: 'polpa de fruta 1kg',\n",
              " 55: 'polpa de fruta 400g',\n",
              " 56: 'refrigerante 2lt',\n",
              " 57: 'resma papel A4 c/500 folhas',\n",
              " 58: 'sabão em barra 200g',\n",
              " 59: 'sabão em pó 500g',\n",
              " 60: 'saco de lixo 100lt',\n",
              " 61: 'saco de lixo 15lt',\n",
              " 62: 'saco de lixo 200lt',\n",
              " 63: 'saco de lixo 30lt',\n",
              " 64: 'saco de lixo 40lt',\n",
              " 65: 'saco de lixo 50lt',\n",
              " 66: 'saco de lixo 60lt',\n",
              " 67: 'sal refinado 1kg',\n",
              " 68: 'soro fisiológico 500ml',\n",
              " 69: 'tijolo de 8 furos',\n",
              " 70: 'vinagre 500ml',\n",
              " 71: 'água mineral 20lt',\n",
              " 72: 'água sanitária 1lt',\n",
              " 73: 'álcool 70% 1lt',\n",
              " 74: 'óleo de soja 900ml'}"
            ]
          },
          "metadata": {
            "tags": []
          },
          "execution_count": 123
        }
      ]
    },
    {
      "cell_type": "code",
      "metadata": {
        "id": "uTGDEZYg8Sil"
      },
      "source": [
        "#cria set de validaçao\n",
        "N = 0.05*len(df['xprod'].unique().tolist())\n",
        "df_st = df.groupby('definicao', group_keys=False).apply(lambda x: x.sample(int(np.rint(N*len(x)/len(df))),random_state=1)).drop_duplicates(subset='xprod').sample(frac=1).reset_index(drop=True)\n",
        "df = df[~df['xprod'].isin(df_st.xprod.values)]"
      ],
      "execution_count": null,
      "outputs": []
    },
    {
      "cell_type": "code",
      "metadata": {
        "colab": {
          "base_uri": "https://localhost:8080/"
        },
        "id": "ha_ePT1uksnm",
        "outputId": "146aceab-6ab1-44c1-d706-cd37f387d7ff"
      },
      "source": [
        "# aplica ruido a set de validaçao\n",
        "N2 = 0.05*(len(df_test))\n",
        "df_test_st = df_test.groupby('definicao', group_keys=False).apply(lambda x: x.sample(int(np.rint(N2*len(x)/len(df_test))), random_state=1)).drop_duplicates(subset='xprod').sample(frac=1).reset_index(drop=True)\n",
        "df_val = pd.concat([df_test_st, df_st], ignore_index=True).reset_index(drop=True)\n",
        "print(f'Dataset de validação: {len(df_val)}')"
      ],
      "execution_count": null,
      "outputs": [
        {
          "output_type": "stream",
          "text": [
            "Dataset de validação: 9179\n"
          ],
          "name": "stdout"
        }
      ]
    },
    {
      "cell_type": "code",
      "metadata": {
        "id": "ClDvU6Rbm5hP"
      },
      "source": [
        "N3 = 0.2*len(df['xprod'].unique().tolist())\n",
        "df_teste = df.groupby('definicao', group_keys=False).apply(lambda x: x.sample(int(np.rint(N3*len(x)/len(df))),random_state=1)).drop_duplicates(subset='xprod').sample(frac=1).reset_index(drop=True)\n",
        "df_treino = df[~df['xprod'].isin(df_teste.xprod.values)]"
      ],
      "execution_count": null,
      "outputs": []
    },
    {
      "cell_type": "code",
      "metadata": {
        "colab": {
          "base_uri": "https://localhost:8080/",
          "height": 251
        },
        "id": "jgFM3Q86DxWK",
        "outputId": "5658b306-fea5-4d82-a16c-872c52dedc5d"
      },
      "source": [
        "fig = plt.figure(figsize=(30,5))\n",
        "df_val.groupby('definicao').definicao.count().plot.bar(ylim=0)\n",
        "fig.set_facecolor('xkcd:white')\n",
        "plt.show()"
      ],
      "execution_count": null,
      "outputs": [
        {
          "output_type": "display_data",
          "data": {
            "image/png": "[encoded data removed]",
            "text/plain": [
              "<Figure size 2160x360 with 1 Axes>"
            ]
          },
          "metadata": {
            "tags": []
          }
        }
      ]
    },
    {
      "cell_type": "code",
      "metadata": {
        "colab": {
          "base_uri": "https://localhost:8080/",
          "height": 243
        },
        "id": "AYiBWcfvjMtP",
        "outputId": "3d802594-892a-49b0-ad94-f5db1745166e"
      },
      "source": [
        "fig = plt.figure(figsize=(30,5))\n",
        "df_val[df_val['definicao']!=1000].groupby('definicao').definicao.count().plot.bar(ylim=0)\n",
        "fig.set_facecolor('xkcd:white')\n",
        "plt.show()"
      ],
      "execution_count": null,
      "outputs": [
        {
          "output_type": "display_data",
          "data": {
            "image/png": "[encoded data removed]",
            "text/plain": [
              "<Figure size 2160x360 with 1 Axes>"
            ]
          },
          "metadata": {
            "tags": []
          }
        }
      ]
    },
    {
      "cell_type": "code",
      "metadata": {
        "colab": {
          "base_uri": "https://localhost:8080/",
          "height": 243
        },
        "id": "XjaABlz74unB",
        "outputId": "e4c300bb-cddd-4212-e88f-3fbf95b346a9"
      },
      "source": [
        "fig = plt.figure(figsize=(30,5))\n",
        "df_teste.groupby('definicao').definicao.count().plot.bar(ylim=0)\n",
        "fig.set_facecolor('xkcd:white')\n",
        "plt.show()"
      ],
      "execution_count": null,
      "outputs": [
        {
          "output_type": "display_data",
          "data": {
            "image/png": "[encoded data removed]",
            "text/plain": [
              "<Figure size 2160x360 with 1 Axes>"
            ]
          },
          "metadata": {
            "tags": []
          }
        }
      ]
    },
    {
      "cell_type": "code",
      "metadata": {
        "colab": {
          "base_uri": "https://localhost:8080/",
          "height": 242
        },
        "id": "_zgnZGY2355K",
        "outputId": "796a7577-aafa-40fb-a8e2-b63f5165b83f"
      },
      "source": [
        "fig = plt.figure(figsize=(30,5))\n",
        "df_treino.groupby('definicao').definicao.count().plot.bar(ylim=0)\n",
        "fig.set_facecolor('xkcd:white')\n",
        "plt.show()"
      ],
      "execution_count": null,
      "outputs": [
        {
          "output_type": "display_data",
          "data": {
            "image/png": "[encoded data removed]",
            "text/plain": [
              "<Figure size 2160x360 with 1 Axes>"
            ]
          },
          "metadata": {
            "tags": []
          }
        }
      ]
    },
    {
      "cell_type": "code",
      "metadata": {
        "id": "LFKNEhCl5DHS"
      },
      "source": [
        "grava(df_test, path_modelos+'df_test.pkl')\n",
        "grava(df_val, path_modelos+'df_val.pkl')\n",
        "grava(df_treino, path_modelos+'df_treino.pkl')\n",
        "grava(df_teste, path_modelos+'df_teste.pkl')"
      ],
      "execution_count": null,
      "outputs": []
    },
    {
      "cell_type": "markdown",
      "metadata": {
        "id": "NS2y0sbHHb4i"
      },
      "source": [
        "## Limpeza"
      ]
    },
    {
      "cell_type": "code",
      "metadata": {
        "colab": {
          "base_uri": "https://localhost:8080/"
        },
        "id": "V0jTtH6VzN0t",
        "outputId": "669c02c4-3f09-4527-91a9-cc2a1c93356c"
      },
      "source": [
        "'''df_produto = pd.read_csv('produtos.csv')\n",
        "df_produto['definicao'] = np.NaN\n",
        "df_produto['ncm'] = df_produto.ncm.astype(str)\n",
        "df_produto['ncm'] = df_produto['ncm'].apply(lambda x: ''.join(['0',x]) if len(x) == 7 else x)\n",
        "df_produto['Produto'] = df_produto['xprod']\n",
        "df_produto['ucom'] = df_produto['ucom'].replace('^\\s*$|^$', 'und', regex=True)\n",
        "df_produto.loc[df_produto.ucom.isin(lista_lt), 'ucom'] = 'lt'\n",
        "df_produto.loc[df_produto.ucom.isin(lista_kg), 'ucom'] = 'kg'\n",
        "df_produto.loc[df_produto.ucom.isin(lista_und), 'ucom'] = 'und'\n",
        "df_produto.locdf = limpa_descricoes(df, 'xprod')[df_produto.ucom.isin(lista_pct), 'ucom'] = 'pct'\n",
        "df_produto.loc[df_produto.ucom.isin(lista_cx), 'ucom'] = 'cx'\n",
        "df_produto.loc[df_produto.ucom.isin(lista_frd), 'ucom'] = 'frd'\n",
        "df_produto.loc[df_produto.ucom.isin(lista_sc), 'ucom'] = 'sc'\n",
        "df_produto.loc[~df_produto.ucom.isin(unidades), 'ucom'] = 'und' '''"
      ],
      "execution_count": null,
      "outputs": [
        {
          "output_type": "execute_result",
          "data": {
            "application/vnd.google.colaboratory.intrinsic+json": {
              "type": "string"
            },
            "text/plain": [
              "\"df_produto = pd.read_csv('produtos.csv')\\ndf_produto['definicao'] = np.NaN\\ndf_produto['ncm'] = df_produto.ncm.astype(str)\\ndf_produto['ncm'] = df_produto['ncm'].apply(lambda x: ''.join(['0',x]) if len(x) == 7 else x)\\ndf_produto['Produto'] = df_produto['xprod']\\ndf_produto['ucom'] = df_produto['ucom'].replace('^\\\\s*$|^$', 'und', regex=True)\\ndf_produto.loc[df_produto.ucom.isin(lista_lt), 'ucom'] = 'lt'\\ndf_produto.loc[df_produto.ucom.isin(lista_kg), 'ucom'] = 'kg'\\ndf_produto.loc[df_produto.ucom.isin(lista_und), 'ucom'] = 'und'\\ndf_produto.locdf = limpa_descricoes(df, 'xprod')[df_produto.ucom.isin(lista_pct), 'ucom'] = 'pct'\\ndf_produto.loc[df_produto.ucom.isin(lista_cx), 'ucom'] = 'cx'\\ndf_produto.loc[df_produto.ucom.isin(lista_frd), 'ucom'] = 'frd'\\ndf_produto.loc[df_produto.ucom.isin(lista_sc), 'ucom'] = 'sc'\\ndf_produto.loc[~df_produto.ucom.isin(unidades), 'ucom'] = 'und' \""
            ]
          },
          "metadata": {
            "tags": []
          },
          "execution_count": 132
        }
      ]
    },
    {
      "cell_type": "markdown",
      "metadata": {
        "id": "xuvMqr2VzN5F"
      },
      "source": [
        "## Preprocessing"
      ]
    },
    {
      "cell_type": "code",
      "metadata": {
        "id": "6hTMdct26CUT"
      },
      "source": [
        "'''df_treino = abre(path_modelos+f'df_treino.pkl')\n",
        "df_teste = abre(path_modelos+f'df_teste.pkl')\n",
        "df_val = abre(path_modelos+f'df_val.pkl')'''\n",
        "\n",
        "df_treino = pre_processing_pln(df_treino, 'xprod')\n",
        "df_teste = pre_processing_pln(df_teste, 'xprod')\n",
        "df_val = pre_processing_pln(df_val, 'xprod')\n",
        "df_val_sem_ruido = df_val[df_val['definicao']!=1000]"
      ],
      "execution_count": null,
      "outputs": []
    },
    {
      "cell_type": "markdown",
      "metadata": {
        "id": "qcYVjzV3sf5H"
      },
      "source": [
        "###Unique values "
      ]
    },
    {
      "cell_type": "code",
      "metadata": {
        "colab": {
          "base_uri": "https://localhost:8080/"
        },
        "id": "9aijZVQTse8n",
        "outputId": "cba53988-630d-4456-dd0d-9ea8a7fa5f50"
      },
      "source": [
        "'''todas_classes = df['definicao'].unique().tolist()\n",
        "for classe in sorted(todas_classes):\n",
        "  descr_unicas = df[df['definicao'] == classe]['xprod'].unique().tolist()\n",
        "  if descr_unicas:\n",
        "    print(descr_unicas)'''"
      ],
      "execution_count": null,
      "outputs": [
        {
          "output_type": "execute_result",
          "data": {
            "application/vnd.google.colaboratory.intrinsic+json": {
              "type": "string"
            },
            "text/plain": [
              "\"todas_classes = df['definicao'].unique().tolist()\\nfor classe in sorted(todas_classes):\\n  descr_unicas = df[df['definicao'] == classe]['xprod'].unique().tolist()\\n  if descr_unicas:\\n    print(descr_unicas)\""
            ]
          },
          "metadata": {
            "tags": []
          },
          "execution_count": 134
        }
      ]
    },
    {
      "cell_type": "markdown",
      "metadata": {
        "id": "P273nk4VzN7O"
      },
      "source": [
        "### Dividindo em teste e treino"
      ]
    },
    {
      "cell_type": "code",
      "metadata": {
        "id": "prK_0pxnntKs"
      },
      "source": [
        "X_train, X_test, y_train, y_test = df_treino['xprod'], df_teste['xprod'], df_treino['definicao'], df_teste['definicao']"
      ],
      "execution_count": null,
      "outputs": []
    },
    {
      "cell_type": "markdown",
      "metadata": {
        "id": "t3n69SdWzN7S"
      },
      "source": [
        "### Codificando xprod"
      ]
    },
    {
      "cell_type": "markdown",
      "metadata": {
        "id": "8sYGQ3Lt6jeb"
      },
      "source": [
        "#### tf-idf"
      ]
    },
    {
      "cell_type": "code",
      "metadata": {
        "id": "vvbIebJFJieM"
      },
      "source": [
        "count_vect = CountVectorizer(ngram_range=(2,4), min_df=2) \n",
        "tfidf_transformer = TfidfTransformer()"
      ],
      "execution_count": null,
      "outputs": []
    },
    {
      "cell_type": "code",
      "metadata": {
        "id": "m--0_vfazN7Z"
      },
      "source": [
        "X_train_counts = count_vect.fit_transform(X_train)\n",
        "X_train_tfidf = tfidf_transformer.fit_transform(X_train_counts)\n",
        "\n",
        "X_test_counts = count_vect.transform(X_test)\n",
        "X_test_tfidf = tfidf_transformer.transform(X_test_counts)\n",
        "\n",
        "X_val_counts = count_vect.transform(df_val_sem_ruido['xprod'])\n",
        "X_val_tfidf = tfidf_transformer.transform(X_val_counts)\n",
        "\n",
        "y_val = df_val_sem_ruido['definicao'].astype(int).tolist()\n",
        "\n",
        "X_val_counts_ruido = count_vect.transform(df_val['xprod'])\n",
        "X_val_tfidf_ruido = tfidf_transformer.transform(X_val_counts_ruido)\n",
        "\n",
        "y_val_ruido = df_val['definicao'].astype(int).tolist()"
      ],
      "execution_count": null,
      "outputs": []
    },
    {
      "cell_type": "markdown",
      "metadata": {
        "id": "RDZgXAIIU9NB"
      },
      "source": [
        "#### oversample"
      ]
    },
    {
      "cell_type": "code",
      "metadata": {
        "colab": {
          "base_uri": "https://localhost:8080/"
        },
        "id": "MF0rXN-OhNcp",
        "outputId": "d815dc0b-217b-4b93-f987-a8bff871fbc8"
      },
      "source": [
        "rus = RandomOverSampler()\n",
        "X_train_tfidf, y_train = rus.fit_sample(X_train_tfidf, y_train)"
      ],
      "execution_count": null,
      "outputs": [
        {
          "output_type": "stream",
          "text": [
            "/usr/local/lib/python3.6/dist-packages/sklearn/utils/deprecation.py:87: FutureWarning: Function safe_indexing is deprecated; safe_indexing is deprecated in version 0.22 and will be removed in version 0.24.\n",
            "  warnings.warn(msg, category=FutureWarning)\n"
          ],
          "name": "stderr"
        }
      ]
    },
    {
      "cell_type": "code",
      "metadata": {
        "id": "k9ZDwznGgOns"
      },
      "source": [
        "grava(X_train_tfidf, path_modelos+'X_train_tfidf.pkl')\n",
        "grava(X_test_tfidf, path_modelos+'X_test_tfidf.pkl')\n",
        "\n",
        "grava(y_train, path_modelos+'y_train.pkl')\n",
        "grava(y_test, path_modelos+'y_test.pkl')\n",
        "\n",
        "grava(X_val_tfidf, path_modelos+'X_val_tfidf.pkl')\n",
        "grava(y_val, path_modelos+'y_val.pkl')\n",
        "\n",
        "grava(X_val_tfidf_ruido, path_modelos+'X_val_tfidf_ruido.pkl')\n",
        "grava(y_val_ruido, path_modelos+'y_val_ruido.pkl')"
      ],
      "execution_count": null,
      "outputs": []
    },
    {
      "cell_type": "markdown",
      "metadata": {
        "id": "Xc5oCoqAPvlM"
      },
      "source": [
        "#### word2vec\n"
      ]
    },
    {
      "cell_type": "code",
      "metadata": {
        "colab": {
          "base_uri": "https://localhost:8080/"
        },
        "id": "cJv55_S6UYAn",
        "outputId": "53a4b61a-14d3-4872-efc4-eea0c4026bb6"
      },
      "source": [
        "'''qtd_palavras = 20\n",
        "qtd_dimensoes = 300\n",
        "qtd_dimensoes_umap = 20 '''"
      ],
      "execution_count": null,
      "outputs": [
        {
          "output_type": "execute_result",
          "data": {
            "application/vnd.google.colaboratory.intrinsic+json": {
              "type": "string"
            },
            "text/plain": [
              "'qtd_palavras = 20\\nqtd_dimensoes = 300\\nqtd_dimensoes_umap = 20 '"
            ]
          },
          "metadata": {
            "tags": []
          },
          "execution_count": 140
        }
      ]
    },
    {
      "cell_type": "code",
      "metadata": {
        "colab": {
          "base_uri": "https://localhost:8080/"
        },
        "id": "r7IMTfOOPysL",
        "outputId": "babeeb2e-2561-4e72-96d1-aff7118a5697"
      },
      "source": [
        "'''counts = df['definicao'].value_counts()\n",
        "df = df[df['definicao'].isin(counts[counts > 2].index)]\n",
        "sentences = [descr.split()[:qtd_palavras] for descr in df['xprod']]\n",
        "#sentences_teste = [descr.split()[:qtd_palavras] for descr in df_aux['xprod']]\n",
        "#vocab_sem_repetidos = [list(item) for item in set(tuple(row) for row in sentences+sentences_teste)]\n",
        "\n",
        "#model = Word2Vec(vocab_sem_repetidos,size=qtd_dimensoes, min_count=1, workers=-1)\n",
        "# model.wv[]\n",
        "doc_vectors = {}\n",
        "\n",
        "for number, sent in enumerate(sentences):\n",
        "    #agora dando peso maior pras primeiras palavras, peso decrescente ateh o final, numeros com mesmo peso da primeira palavra:\n",
        "    if len(sent) == 0:\n",
        "        doc_vectors[number] = np.zeros(qtd_dimensoes,)\n",
        "    elif len(sent) == 1:\n",
        "        doc_vectors[number] = ft.get_word_vector(sent[0])\n",
        "    elif len(sent) > 1:\n",
        "        pesos = np.array(range(len(sent))[::]) + 1\n",
        "        pesos = 1 / pesos\n",
        "        media = []\n",
        "        divisao = 0\n",
        "        counter = 0\n",
        "        for word in sent:\n",
        "            # peso dobrado pra digits\n",
        "            if word.isdigit():\n",
        "                media.append(ft.get_word_vector(word) * ((pesos[0]+pesos[-1])*(1/2)) )\n",
        "                divisao += ((pesos[0]+pesos[-1])*(1/2))\n",
        "            else:\n",
        "                media.append(ft.get_word_vector(word) * pesos[counter])\n",
        "                divisao += pesos[counter]\n",
        "            counter += 1\n",
        "        doc_vectors[number] = np.array(media).sum(axis=0) / divisao #media de tudo'''"
      ],
      "execution_count": null,
      "outputs": [
        {
          "output_type": "execute_result",
          "data": {
            "application/vnd.google.colaboratory.intrinsic+json": {
              "type": "string"
            },
            "text/plain": [
              "\"counts = df['definicao'].value_counts()\\ndf = df[df['definicao'].isin(counts[counts > 2].index)]\\nsentences = [descr.split()[:qtd_palavras] for descr in df['xprod']]\\n#sentences_teste = [descr.split()[:qtd_palavras] for descr in df_aux['xprod']]\\n#vocab_sem_repetidos = [list(item) for item in set(tuple(row) for row in sentences+sentences_teste)]\\n\\n#model = Word2Vec(vocab_sem_repetidos,size=qtd_dimensoes, min_count=1, workers=-1)\\n# model.wv[]\\ndoc_vectors = {}\\n\\nfor number, sent in enumerate(sentences):\\n    #agora dando peso maior pras primeiras palavras, peso decrescente ateh o final, numeros com mesmo peso da primeira palavra:\\n    if len(sent) == 0:\\n        doc_vectors[number] = np.zeros(qtd_dimensoes,)\\n    elif len(sent) == 1:\\n        doc_vectors[number] = ft.get_word_vector(sent[0])\\n    elif len(sent) > 1:\\n        pesos = np.array(range(len(sent))[::]) + 1\\n        pesos = 1 / pesos\\n        media = []\\n        divisao = 0\\n        counter = 0\\n        for word in sent:\\n            # peso dobrado pra digits\\n            if word.isdigit():\\n                media.append(ft.get_word_vector(word) * ((pesos[0]+pesos[-1])*(1/2)) )\\n                divisao += ((pesos[0]+pesos[-1])*(1/2))\\n            else:\\n                media.append(ft.get_word_vector(word) * pesos[counter])\\n                divisao += pesos[counter]\\n            counter += 1\\n        doc_vectors[number] = np.array(media).sum(axis=0) / divisao #media de tudo\""
            ]
          },
          "metadata": {
            "tags": []
          },
          "execution_count": 141
        }
      ]
    },
    {
      "cell_type": "code",
      "metadata": {
        "colab": {
          "base_uri": "https://localhost:8080/"
        },
        "id": "3koMn3SqRLmd",
        "outputId": "de6ceb4e-0bbd-48c5-8cf4-42814bfa2ac5"
      },
      "source": [
        "'''doc_vectors = pd.DataFrame(doc_vectors).T\n",
        "doc_vectors = doc_vectors.set_index(df.index) \n",
        "\n",
        "scaler = StandardScaler()\n",
        "doc_vectors_std_df = pd.DataFrame(scaler.fit_transform(doc_vectors),index=doc_vectors.index,columns=doc_vectors.columns)'''"
      ],
      "execution_count": null,
      "outputs": [
        {
          "output_type": "execute_result",
          "data": {
            "application/vnd.google.colaboratory.intrinsic+json": {
              "type": "string"
            },
            "text/plain": [
              "'doc_vectors = pd.DataFrame(doc_vectors).T\\ndoc_vectors = doc_vectors.set_index(df.index) \\n\\nscaler = StandardScaler()\\ndoc_vectors_std_df = pd.DataFrame(scaler.fit_transform(doc_vectors),index=doc_vectors.index,columns=doc_vectors.columns)'"
            ]
          },
          "metadata": {
            "tags": []
          },
          "execution_count": 142
        }
      ]
    },
    {
      "cell_type": "code",
      "metadata": {
        "colab": {
          "base_uri": "https://localhost:8080/"
        },
        "id": "_IZOH0LVRMWZ",
        "outputId": "8d5d3341-efb4-43ab-e71b-200ec416be11"
      },
      "source": [
        "'''umap_redux = umap.UMAP(n_components=qtd_dimensoes_umap, random_state=999, metric='cosine',verbose=True)\n",
        "umap_redux.fit(doc_vectors_std_df)\n",
        "doc_vectors_std_df_umap = umap_redux.transform(X=doc_vectors_std_df)\n",
        "'''\n",
        "#df['avg_vec'] = pd.DataFrame(doc_vectors_std_df_umap).values.mean(axis=1)"
      ],
      "execution_count": null,
      "outputs": [
        {
          "output_type": "execute_result",
          "data": {
            "application/vnd.google.colaboratory.intrinsic+json": {
              "type": "string"
            },
            "text/plain": [
              "\"umap_redux = umap.UMAP(n_components=qtd_dimensoes_umap, random_state=999, metric='cosine',verbose=True)\\numap_redux.fit(doc_vectors_std_df)\\ndoc_vectors_std_df_umap = umap_redux.transform(X=doc_vectors_std_df)\\n\""
            ]
          },
          "metadata": {
            "tags": []
          },
          "execution_count": 143
        }
      ]
    },
    {
      "cell_type": "code",
      "metadata": {
        "id": "yx5dTaQIYRy4"
      },
      "source": [
        "#x_train, x_test, y_train, y_test = train_test_split(pd.DataFrame(doc_vectors_std_df_umap), df['definicao'], test_size=0.2, stratify=df['definicao'], random_state=0)"
      ],
      "execution_count": null,
      "outputs": []
    },
    {
      "cell_type": "markdown",
      "metadata": {
        "id": "vku9kieO1KiK"
      },
      "source": [
        "## Treinamento"
      ]
    },
    {
      "cell_type": "code",
      "metadata": {
        "id": "kPhwRk-T4LGb"
      },
      "source": [
        "X_train_tfidf = abre(path_modelos+'X_train_tfidf.pkl')\n",
        "X_test_tfidf = abre(path_modelos+'X_test_tfidf.pkl')\n",
        "y_train = abre(path_modelos+'y_train.pkl')\n",
        "y_test = abre(path_modelos+'y_test.pkl')\n",
        "X_val_tfidf = abre(path_modelos+'X_val_tfidf.pkl')\n",
        "y_val = abre(path_modelos+'y_val.pkl')\n",
        "X_val_tfidf_ruido = abre(path_modelos+'X_val_tfidf_ruido.pkl')\n",
        "y_val_ruido = abre(path_modelos+'y_val_ruido.pkl')\n",
        "df_val = abre(path_modelos+'df_val.pkl')\n",
        "df_val_sem_ruido = df_val[df_val['definicao']!=1000]"
      ],
      "execution_count": null,
      "outputs": []
    },
    {
      "cell_type": "markdown",
      "metadata": {
        "id": "f3VVJPYJBHIi"
      },
      "source": [
        "### modelos"
      ]
    },
    {
      "cell_type": "code",
      "metadata": {
        "id": "eCDVSolqhiz7"
      },
      "source": [
        "model = RandomForestClassifier(n_estimators=100)\n",
        "   \n",
        "kf = StratifiedKFold(n_splits=5, shuffle=True)\n",
        "#kf.get_n_splits(X_train_tfidf)\n",
        "for train_index, test_index in kf.split(X_train_tfidf, y_train):\n",
        "    X_train, _ = X_train_tfidf[train_index], X_train_tfidf[test_index]\n",
        "    Y_train, _ = y_train[train_index], y_train[test_index] #sem oversample usa iloc[test_index]\n",
        "    clf = model.fit(X_train, Y_train)\n",
        "y_pred = clf.predict(X_test_tfidf)\n",
        "#print(f'Acurácia teste: {accuracy_score(y_test, y_pred)}')\n",
        "print(f'F1: {f1_score(y_test, y_pred, average='macro')}')"
      ],
      "execution_count": null,
      "outputs": []
    },
    {
      "cell_type": "code",
      "metadata": {
        "id": "o1WZj19IsqV4"
      },
      "source": [
        "grava(clf, path_modelos2+f'(f1:{f1_score(y_test, y_pred, average='macro'):.2f}).pkl')"
      ],
      "execution_count": null,
      "outputs": []
    },
    {
      "cell_type": "markdown",
      "metadata": {
        "id": "Sh-199T_3RLR"
      },
      "source": [
        "### Comitês"
      ]
    },
    {
      "cell_type": "markdown",
      "metadata": {
        "id": "xYdUgSXb3aly"
      },
      "source": [
        "##### Stack"
      ]
    },
    {
      "cell_type": "markdown",
      "metadata": {
        "id": "_C872pq13dkV"
      },
      "source": [
        "###### Cross-val"
      ]
    },
    {
      "cell_type": "code",
      "metadata": {
        "id": "4emkAAfC3VLZ"
      },
      "source": [
        "df = abre(path_tcc+'df_ptreinos.pkl')\n",
        "df = pre_processing_pln(df, 'xprod')\n",
        "df = df.drop_duplicates(subset='xprod').reset_index(drop=True)\n",
        "X_train, y_train = df['xprod'], df['definicao']\n",
        "count_vect = CountVectorizer(ngram_range=(2,4), min_df=2) # 15000 para 300\n",
        "tfidf_transformer = TfidfTransformer()\n",
        "\n",
        "X_train_counts = count_vect.fit_transform(X_train)\n",
        "X_train_tfidf = tfidf_transformer.fit_transform(X_train_counts)\n",
        "\n",
        "#rus = RandomOverSampler()\n",
        "#X_train_tfidf, y_train = rus.fit_sample(X_train_tfidf, y_train)"
      ],
      "execution_count": null,
      "outputs": []
    },
    {
      "cell_type": "code",
      "metadata": {
        "id": "abDRViG03laG"
      },
      "source": [
        "def get_stacking():\n",
        "  # define the base models\n",
        "  level0 = list()\n",
        "  level0.append(('lr', LogisticRegression()))\n",
        "  level0.append(('lr2', LogisticRegression(solver='liblinear')))\n",
        "  level0.append(('tree', DecisionTreeClassifier()))\n",
        "  level0.append(('tree2', DecisionTreeClassifier(criterion='entropy')))\n",
        "  level0.append(('knn', KNeighborsClassifier(n_neighbors=3, p=1)))\n",
        "  level0.append(('knn2', KNeighborsClassifier(n_neighbors=3)))\n",
        "  level0.append(('svm', make_pipeline(StandardScaler(with_mean=False), SVC(gamma='auto',probability=True))))\n",
        "  level0.append(('svm2', make_pipeline(StandardScaler(with_mean=False), SVC(probability=True))))\n",
        "  level0.append(('bayes', MultinomialNB()))\n",
        "  level0.append(('bayes2', MultinomialNB(alpha=0.1)))\n",
        "  level0.append(('mlp', MLPClassifier(hidden_layer_sizes=(15,15), random_state=1)))\n",
        "  level0.append(('mlp2', MLPClassifier(hidden_layer_sizes=(25,25), random_state=1)))\n",
        "  level1 = LogisticRegression()\n",
        "  model = StackingClassifier(estimators=level0, final_estimator=level1, cv=5)\n",
        "  return model\n",
        "\n",
        "def get_models():\n",
        "  models = dict()\n",
        "  models['lr'] = LogisticRegression()\n",
        "  models['lr2'] = LogisticRegression(solver='liblinear')\n",
        "  models['tree'] = DecisionTreeClassifier()\n",
        "  models['tree2'] = DecisionTreeClassifier(criterion='entropy')\n",
        "  models['knn'] = KNeighborsClassifier(n_neighbors=3, p=1)\n",
        "  models['knn2'] = KNeighborsClassifier(n_neighbors=3)\n",
        "  models['svm'] = make_pipeline(StandardScaler(with_mean=False), SVC(gamma='auto',probability=True))\n",
        "  models['svm2'] = make_pipeline(StandardScaler(with_mean=False), SVC(probability=True))\n",
        "  models['bayes'] = MultinomialNB()\n",
        "  models['bayes2'] = MultinomialNB(alpha=0.1)\n",
        "  models['mlp'] = MLPClassifier(hidden_layer_sizes=(15,15), random_state=1)\n",
        "  models['mlp2'] = MLPClassifier(hidden_layer_sizes=(25,25), random_state=1)\n",
        "  models['stacking'] = get_stacking()\n",
        "  return models\n",
        "\n",
        "from sklearn.model_selection import RepeatedStratifiedKFold\n",
        "def evaluate_model(model, X, y):\n",
        "  cv = RepeatedStratifiedKFold(n_splits=10, n_repeats=3, random_state=1)\n",
        "  scores = cross_val_score(model, X, y, scoring='f1_micro', cv=cv, n_jobs=-1, error_score='raise')\n",
        "  return scores"
      ],
      "execution_count": null,
      "outputs": []
    },
    {
      "cell_type": "code",
      "metadata": {
        "id": "jBrKw9oQ3lzt"
      },
      "source": [
        "from numpy import mean\n",
        "from numpy import std\n",
        "from sklearn.tree import DecisionTreeClassifier\n",
        "from sklearn.ensemble import StackingClassifier\n",
        "models = get_models()\n",
        "results, names = list(), list()\n",
        "for name, model in models.items():\n",
        "  scores = evaluate_model(model, X_train_tfidf, y_train)\n",
        "  results.append(scores)\n",
        "  names.append(name)\n",
        "  print('>%s %.3f (%.3f)' % (name, mean(scores), std(scores)))"
      ],
      "execution_count": null,
      "outputs": []
    },
    {
      "cell_type": "markdown",
      "metadata": {
        "id": "9YXiDh3S3zWb"
      },
      "source": [
        "##### Fit"
      ]
    },
    {
      "cell_type": "code",
      "metadata": {
        "id": "iR1cKHVM31UR"
      },
      "source": [
        "clfs = [('nb', MultinomialNB()),\\\n",
        "         ('lr', LogisticRegression()),\\\n",
        "         ('tree', DecisionTreeClassifier()),\\\n",
        "         ('svm', make_pipeline(StandardScaler(with_mean=False), SVC(probability=True))),\\\n",
        "         ('mlp', MLPClassifier(hidden_layer_sizes=(20,20), random_state=1, verbose=True))]"
      ],
      "execution_count": null,
      "outputs": []
    },
    {
      "cell_type": "code",
      "metadata": {
        "id": "Yfbp6beZ4CwK"
      },
      "source": [
        "stacking = StackingClassifier(estimators = clfs, final_estimator = LogisticRegression(), stack_method='predict_proba')\n",
        "stacking.fit(X_train_tfidf, y_train).score(X_test_tfidf, y_test)\n",
        "y_pred=stacking.predict(X_test_tfidf)\n",
        "grava(stacking, path_modelos2+f\"stack4(f1:{f1_score(y_test, y_pred, average='macro'):.5f}).pkl\")"
      ],
      "execution_count": null,
      "outputs": []
    },
    {
      "cell_type": "markdown",
      "metadata": {
        "id": "0zhRoyi_5CTk"
      },
      "source": [
        "##### Bagging"
      ]
    },
    {
      "cell_type": "code",
      "metadata": {
        "colab": {
          "base_uri": "https://localhost:8080/"
        },
        "id": "1JNhasy84Tah",
        "outputId": "5fa80666-f7f8-497e-ab8c-5928c5e27e9b"
      },
      "source": [
        "clf = BaggingClassifier(base_estimator=MLPClassifier(hidden_layer_sizes=(40,20)),n_estimators=10, oob_score=True, random_state=0).fit(X_train_tfidf, y_train)\n",
        "y_pred = clf.predict(X_test_tfidf)\n",
        "grava(clf, path_modelos2+'bagg.pkl')\n",
        "print(f\"f1: {f1_score(y_test, y_pred, average='macro')}\")\n",
        "accuracy_score(y_test, y_pred)"
      ],
      "execution_count": null,
      "outputs": [
        {
          "output_type": "stream",
          "text": [
            "/usr/local/lib/python3.6/dist-packages/sklearn/ensemble/_bagging.py:633: UserWarning: Some inputs do not have OOB scores. This probably means too few estimators were used to compute any reliable oob estimates.\n",
            "  warn(\"Some inputs do not have OOB scores. \"\n",
            "/usr/local/lib/python3.6/dist-packages/sklearn/ensemble/_bagging.py:638: RuntimeWarning: invalid value encountered in true_divide\n",
            "  predictions.sum(axis=1)[:, np.newaxis])\n"
          ],
          "name": "stderr"
        },
        {
          "output_type": "stream",
          "text": [
            "f1: 0.8906485261446068\n"
          ],
          "name": "stdout"
        },
        {
          "output_type": "execute_result",
          "data": {
            "text/plain": [
              "0.9020408163265307"
            ]
          },
          "metadata": {
            "tags": []
          },
          "execution_count": 145
        }
      ]
    },
    {
      "cell_type": "markdown",
      "metadata": {
        "id": "gg1cv-s5gtmq"
      },
      "source": [
        "##### Super learner"
      ]
    },
    {
      "cell_type": "code",
      "metadata": {
        "id": "_GTtCBFtgwCt"
      },
      "source": [
        "def get_out_of_fold_predictions(X, y, models):\n",
        "  meta_X, meta_y = list(), list()\n",
        "  kf = StratifiedKFold(n_splits=5, shuffle=True)\n",
        "  for train_ix, test_ix in kf.split(X_train_tfidf, y_train):\n",
        "    fold_yhats = list()\n",
        "    train_X, test_X = X[train_ix], X[test_ix]\n",
        "    train_y, test_y = y[train_ix], y[test_ix]\n",
        "    meta_y.extend(test_y)\n",
        "    for model in models:\n",
        "      #model.fit(train_X, train_y)\n",
        "      yhat = model.predict_proba(test_X)\n",
        "      fold_yhats.append(yhat)\n",
        "    meta_X.append(hstack(fold_yhats))\n",
        "  return vstack(meta_X), asarray(meta_y)\n",
        "\n",
        "def get_models():\n",
        "  models = list()\n",
        "  models.append(BaggingClassifier(base_estimator=MLPClassifier(hidden_layer_sizes=(40,20)),n_estimators=10, oob_score=True, random_state=0).fit(X_train_tfidf, y_train))\n",
        "\n",
        "  return models\n",
        "\n",
        "def fit_base_models(X, y, models):\n",
        "\tfor model in models:\n",
        "\t\tmodel.fit(X, y)\n",
        " \n",
        "def fit_meta_model(X, y):\n",
        "\tmodel = LogisticRegression()\n",
        "\tmodel.fit(X, y)\n",
        "\treturn model\n",
        " \n",
        "def evaluate_models(X, y, models):\n",
        "\tfor model in models:\n",
        "\t\tyhat = model.predict(X)\n",
        "\t\tacc = accuracy_score(y, yhat)\n",
        "\t\tprint('%s: %.2f' % (model.__class__.__name__, acc*100))\n",
        " \n",
        "def super_learner_predictions(X, models, meta_model):\n",
        "\tmeta_X = list()\n",
        "\tfor model in models:\n",
        "\t\tyhat = model.predict_proba(X)\n",
        "\t\tmeta_X.append(yhat)\n",
        "\tmeta_X = hstack(meta_X)\n",
        "\treturn meta_model.predict(meta_X)"
      ],
      "execution_count": null,
      "outputs": []
    },
    {
      "cell_type": "code",
      "metadata": {
        "colab": {
          "base_uri": "https://localhost:8080/"
        },
        "id": "n-A_QEVJg4FF",
        "outputId": "b88775b6-661a-43b2-bb71-66b62ab14b39"
      },
      "source": [
        "models = get_models()\n",
        "meta_X, meta_y = get_out_of_fold_predictions(X_train_tfidf, y_train, models)\n",
        "fit_base_models(X_train_tfidf, y_train, models)\n",
        "meta_model = fit_meta_model(meta_X, meta_y)\n",
        "evaluate_models(X_test_tfidf, y_test, models)\n",
        "\n",
        "yhat = super_learner_predictions(X_test_tfidf, models, meta_model)\n",
        "print('Super Learner: %.2f' % (accuracy_score(y_test, yhat) * 100))"
      ],
      "execution_count": null,
      "outputs": [
        {
          "output_type": "stream",
          "text": [
            "/usr/local/lib/python3.6/dist-packages/sklearn/ensemble/_bagging.py:633: UserWarning: Some inputs do not have OOB scores. This probably means too few estimators were used to compute any reliable oob estimates.\n",
            "  warn(\"Some inputs do not have OOB scores. \"\n",
            "/usr/local/lib/python3.6/dist-packages/sklearn/ensemble/_bagging.py:638: RuntimeWarning: invalid value encountered in true_divide\n",
            "  predictions.sum(axis=1)[:, np.newaxis])\n"
          ],
          "name": "stderr"
        },
        {
          "output_type": "stream",
          "text": [
            "BaggingClassifier: 91.35\n",
            "Super Learner: 91.35\n"
          ],
          "name": "stdout"
        }
      ]
    },
    {
      "cell_type": "code",
      "metadata": {
        "id": "wutqbVsYg7J-"
      },
      "source": [
        "grava(meta_model, path_modelos2+\"meta_super_model.pkl\")\n",
        "grava(models, path_modelos2+\"models_super_model.pkl\")"
      ],
      "execution_count": null,
      "outputs": []
    },
    {
      "cell_type": "markdown",
      "metadata": {
        "id": "Ixs_1rU-5wLP"
      },
      "source": [
        "##### Votação"
      ]
    },
    {
      "cell_type": "code",
      "metadata": {
        "id": "DIyYsYgu53vf"
      },
      "source": [
        "# votação sklearn https://stackoverflow.com/questions/42920148/using-sklearn-voting-ensemble-with-partial-fit\n",
        "clfs = [nb, nb2, rf, rf2]\n",
        "eclf = EnsembleVoteClassifier(clfs=clfs, voting=\"hard\", refit=False)\n",
        "eclf.fit(None,np.array(real_groups))"
      ],
      "execution_count": null,
      "outputs": []
    },
    {
      "cell_type": "markdown",
      "metadata": {
        "id": "Wqv5m4mGzN7i"
      },
      "source": [
        "### Confusion Matrix"
      ]
    },
    {
      "cell_type": "code",
      "metadata": {
        "colab": {
          "base_uri": "https://localhost:8080/",
          "height": 813
        },
        "id": "Rhbbzcc-yqch",
        "outputId": "280e82c9-2e57-4f34-aac0-3f19f03bf2ea"
      },
      "source": [
        "classes = df_treino['definicao'].unique().tolist()\n",
        "plt.figure(figsize=(45,25))\n",
        "cm = confusion_matrix(y_test, y_pred)\n",
        "#cm = confusion_matrix(y_test, yhat)\n",
        "axes = sorted(classes)\n",
        "sns.heatmap(cm, annot=True, cbar=False, fmt='g', xticklabels= axes, yticklabels=axes)\n",
        "plt.ylabel('True Label')\n",
        "plt.xlabel('Predicted Label')\n",
        "plt.title('Accuracy:{0:.2f}'.format(accuracy_score(y_test, y_pred)))"
      ],
      "execution_count": null,
      "outputs": [
        {
          "output_type": "execute_result",
          "data": {
            "text/plain": [
              "Text(0.5, 1.0, 'Accuracy:0.90')"
            ]
          },
          "metadata": {
            "tags": []
          },
          "execution_count": 261
        },
        {
          "output_type": "display_data",
          "data": {
            "image/png": "[encoded data removed]",
            "text/plain": [
              "<Figure size 3240x1800 with 1 Axes>"
            ]
          },
          "metadata": {
            "tags": []
          }
        }
      ]
    },
    {
      "cell_type": "markdown",
      "metadata": {
        "id": "DlQJAua-zN7e"
      },
      "source": [
        "## Predição"
      ]
    },
    {
      "cell_type": "code",
      "metadata": {
        "id": "a3wBuSWatBCy"
      },
      "source": [
        "df_treino = abre(path_modelos+'df_treino.pkl')\n",
        "df_teste = abre(path_modelos+'df_teste.pkl')\n",
        "df_val = abre(path_modelos+'df_val.pkl')\n",
        "X_train_tfidf = abre(path_modelos+'X_train_tfidf.pkl')\n",
        "X_test_tfidf = abre(path_modelos+'X_test_tfidf.pkl')\n",
        "y_train = abre(path_modelos+'y_train.pkl')\n",
        "y_test = abre(path_modelos+'y_test.pkl')\n",
        "X_val_tfidf = abre(path_modelos+'X_val_tfidf.pkl')\n",
        "y_val = abre(path_modelos+'y_val.pkl')\n",
        "X_val_tfidf_ruido = abre(path_modelos+'X_val_tfidf_ruido.pkl')\n",
        "y_val_ruido = abre(path_modelos+'y_val_ruido.pkl')\n",
        "df_val = abre(path_modelos+'df_val.pkl')\n",
        "df_val_sem_ruido = df_val[df_val['definicao']!=1000]"
      ],
      "execution_count": null,
      "outputs": []
    },
    {
      "cell_type": "code",
      "metadata": {
        "id": "xx0qNFJA6O9_"
      },
      "source": [
        "# mapear numero dos grupos encoded com grupos preditos\n",
        "real_groups = sorted(set(y_train))\n",
        "dictionary = dict(zip(list(range(len(real_groups))), real_groups))"
      ],
      "execution_count": null,
      "outputs": []
    },
    {
      "cell_type": "markdown",
      "metadata": {
        "id": "Z3FWwoyYGY9v"
      },
      "source": [
        "#### Stack"
      ]
    },
    {
      "cell_type": "code",
      "metadata": {
        "id": "3C0jtz9SlDXp"
      },
      "source": [
        "stacking = abre(path_modelos+\"stack.pkl\")\n",
        "y_prob = stacking.predict_proba(X_val_tfidf_ruido)\n",
        "y_prob = [ dictionary[np.argmax(probs)] if max(probs) > 0.5 else 1000 for probs in y_prob ]\n",
        "#accuracy_score(y_test.tolist(), y_prob)\n",
        "accuracy_score(y_val_ruido, y_prob)"
      ],
      "execution_count": null,
      "outputs": []
    },
    {
      "cell_type": "code",
      "metadata": {
        "colab": {
          "base_uri": "https://localhost:8080/",
          "height": 381
        },
        "id": "xxo2kx74c49u",
        "outputId": "87cc060f-cc7f-40c1-e3f8-2a3b56ca40d4"
      },
      "source": [
        "'''df_teste['classe2'] = y_prob\n",
        "fig = plt.figure(figsize=(30,8))\n",
        "df_teste.groupby('classe2').classe.count().plot.bar(ylim=0)\n",
        "#df_val[df_val['classe']!=1000].groupby('classe').classe.count().plot.bar(ylim=0)\n",
        "fig.set_facecolor('xkcd:white')\n",
        "plt.show()'''\n",
        "df_val['classe2'] = y_prob\n",
        "fig = plt.figure(figsize=(30,8))\n",
        "df_val[df_val['classe2']!=1000].groupby('classe2').classe.count().plot.bar(ylim=0)\n",
        "fig.set_facecolor('xkcd:white')\n",
        "plt.show()"
      ],
      "execution_count": null,
      "outputs": [
        {
          "output_type": "display_data",
          "data": {
            "image/png": "[encoded data removed]",
            "text/plain": [
              "<Figure size 2160x576 with 1 Axes>"
            ]
          },
          "metadata": {
            "tags": []
          }
        }
      ]
    },
    {
      "cell_type": "code",
      "metadata": {
        "id": "CCUyNkYDegGX"
      },
      "source": [
        "#n = 104\n",
        "testando = df_val[df_val['classe2']==n]\n",
        "print(len(testando))\n",
        "testando['xprod'].unique()"
      ],
      "execution_count": null,
      "outputs": []
    },
    {
      "cell_type": "markdown",
      "metadata": {
        "id": "y1x1I9b1p9dG"
      },
      "source": [
        "#### Super-learner"
      ]
    },
    {
      "cell_type": "markdown",
      "metadata": {
        "id": "4sMSC5LI28NQ"
      },
      "source": [
        "https://machinelearningmastery.com/super-learner-ensemble-in-python/"
      ]
    },
    {
      "cell_type": "code",
      "metadata": {
        "id": "pG8vyAda--bn"
      },
      "source": [
        "def super_learner_predictions(X, models, meta_model):\n",
        "\tmeta_X = list()\n",
        "\tfor model in models:\n",
        "\t\tyhat = model.predict_proba(X)\n",
        "\t\tmeta_X.append(yhat)\n",
        "\tmeta_X = hstack(meta_X)\n",
        " \n",
        "\treturn meta_model.predict_proba(meta_X)"
      ],
      "execution_count": null,
      "outputs": []
    },
    {
      "cell_type": "code",
      "metadata": {
        "colab": {
          "base_uri": "https://localhost:8080/"
        },
        "id": "8qJa7OWj-yJF",
        "outputId": "c941ba02-d06b-4254-8651-8c717cedc7da"
      },
      "source": [
        "models = abre (path_modelos2+\"models_super_model.pkl\")\n",
        "meta_model = abre(path_modelos2+\"meta_super_model.pkl\")\n",
        "\n",
        "y_prob = super_learner_predictions(X_test_tfidf, models, meta_model)\n",
        "y_prob = [ dictionary[np.argmax(probs)] if max(probs) > 0.5 else 1000 for probs in y_prob ]\n",
        "accuracy_score(y_test.tolist(), y_prob)"
      ],
      "execution_count": null,
      "outputs": [
        {
          "output_type": "execute_result",
          "data": {
            "text/plain": [
              "0.9020172910662824"
            ]
          },
          "metadata": {
            "tags": []
          },
          "execution_count": 12
        }
      ]
    },
    {
      "cell_type": "code",
      "metadata": {
        "id": "MVLLUYbmVdfT"
      },
      "source": [
        "df_teste['classe'] = y_prob\n",
        "fig = plt.figure(figsize=(30,8))\n",
        "df_teste.groupby('classe').classe.count().plot.bar(ylim=0)\n",
        "fig.set_facecolor('xkcd:white')\n",
        "plt.show()"
      ],
      "execution_count": null,
      "outputs": []
    },
    {
      "cell_type": "code",
      "metadata": {
        "id": "y-wOzkr1WIyE"
      },
      "source": [
        "n = 14\n",
        "testando = df_teste[df_teste['classe']==n]\n",
        "testando['Produto'].unique()"
      ],
      "execution_count": null,
      "outputs": []
    },
    {
      "cell_type": "code",
      "metadata": {
        "colab": {
          "base_uri": "https://localhost:8080/"
        },
        "id": "_8xOzuwnZVro",
        "outputId": "7a1e6f71-7cb4-437f-cc58-a708f1711d80"
      },
      "source": [
        "#models = abre (path_modelos+\"models_super_model.pkl\")\n",
        "#meta_model = abre(path_modelos+\"meta_super_model.pkl\")\n",
        "\n",
        "y_prob = super_learner_predictions(X_val_tfidf_ruido, models, meta_model)\n",
        "y_prob = [ dictionary[np.argmax(probs)] if max(probs) > 0.5 else 1000 for probs in y_prob ]\n",
        "df_val['classe'] = y_prob\n",
        "accuracy_score(y_val_ruido, y_prob)"
      ],
      "execution_count": null,
      "outputs": [
        {
          "output_type": "execute_result",
          "data": {
            "text/plain": [
              "0.9762292412894823"
            ]
          },
          "metadata": {
            "tags": []
          },
          "execution_count": 13
        }
      ]
    },
    {
      "cell_type": "code",
      "metadata": {
        "id": "fm5TKTitzELd"
      },
      "source": [
        "fig = plt.figure(figsize=(30,8))\n",
        "df_val[df_val['classe']!=1000].groupby('classe').classe.count().plot.bar(ylim=0)\n",
        "fig.set_facecolor('xkcd:white')\n",
        "plt.show()"
      ],
      "execution_count": null,
      "outputs": []
    },
    {
      "cell_type": "code",
      "metadata": {
        "colab": {
          "base_uri": "https://localhost:8080/"
        },
        "id": "9VG6xctlwW_U",
        "outputId": "4bf4116d-007e-4ca9-d897-f9b7f42fc360"
      },
      "source": [
        "n = 6\n",
        "testando2 = df_val[df_val['classe']==n]\n",
        "print(len(testando2['Produto'].unique()))\n",
        "testando2['Produto'].unique()"
      ],
      "execution_count": null,
      "outputs": [
        {
          "output_type": "stream",
          "text": [
            "4\n"
          ],
          "name": "stdout"
        },
        {
          "output_type": "execute_result",
          "data": {
            "text/plain": [
              "array(['açucar refinado marca ecoçucar',\n",
              "       'acucar ref estrela 1kg granulado', 'acucar refinado estrela 1kg',\n",
              "       'açucar refinado puro mel embalagem c/ 1kg'], dtype=object)"
            ]
          },
          "metadata": {
            "tags": []
          },
          "execution_count": 44
        }
      ]
    },
    {
      "cell_type": "code",
      "metadata": {
        "id": "7X0GM8LyQ7kt"
      },
      "source": [
        "testando2['xprod'].unique()"
      ],
      "execution_count": null,
      "outputs": []
    },
    {
      "cell_type": "code",
      "metadata": {
        "id": "KCzCyF6YR0bj"
      },
      "source": [
        "#df_treino[df_treino['Produto'].str.contains('preto')].iloc[np.random.randint(len(df_treino[df_treino['Produto'].str.contains('preto')]),size=50)]\n",
        "t = df_treino[df_treino['definicao']==n]\n",
        "t.iloc[np.random.randint(len(t),size=50)]"
      ],
      "execution_count": null,
      "outputs": []
    },
    {
      "cell_type": "markdown",
      "metadata": {
        "id": "kT4zq3j1qEDI"
      },
      "source": [
        "#### Bagging"
      ]
    },
    {
      "cell_type": "code",
      "metadata": {
        "colab": {
          "base_uri": "https://localhost:8080/"
        },
        "id": "ilnUPWN5pemI",
        "outputId": "5be9107c-2d21-4d1a-c906-38996a86b410"
      },
      "source": [
        "bagg = abre(path_modelos2+\"bagg.pkl\")\n",
        "y_prob = bagg.predict_proba(X_val_tfidf_ruido)\n",
        "y_prob = [ dictionary[np.argmax(probs)] if max(probs) > 0.5 else 1000 for probs in y_prob ]\n",
        "df_val['classe2'] = y_prob\n",
        "#accuracy_score(y_test.tolist(), y_prob)\n",
        "accuracy_score(y_val_ruido, y_prob)"
      ],
      "execution_count": null,
      "outputs": [
        {
          "output_type": "execute_result",
          "data": {
            "text/plain": [
              "0.9788648000871555"
            ]
          },
          "metadata": {
            "tags": []
          },
          "execution_count": 11
        }
      ]
    },
    {
      "cell_type": "code",
      "metadata": {
        "colab": {
          "base_uri": "https://localhost:8080/",
          "height": 418
        },
        "id": "ADrN-ToLOjBE",
        "outputId": "d712649c-05aa-46f0-8810-a99d1250cfaf"
      },
      "source": [
        "fig = plt.figure(figsize=(30,8))\n",
        "df_val[df_val['classe2']!=1000].groupby('classe2').classe2.count().plot.bar(ylim=0)\n",
        "fig.set_facecolor('xkcd:white')\n",
        "plt.show()"
      ],
      "execution_count": null,
      "outputs": [
        {
          "output_type": "display_data",
          "data": {
            "image/png": "[encoded data removed]",
            "text/plain": [
              "<Figure size 2160x576 with 1 Axes>"
            ]
          },
          "metadata": {
            "tags": []
          }
        }
      ]
    },
    {
      "cell_type": "code",
      "metadata": {
        "id": "PX4JdkReJrCr",
        "colab": {
          "base_uri": "https://localhost:8080/"
        },
        "outputId": "43995b8a-94ab-4b5e-ad93-1fa76e65f0b0"
      },
      "source": [
        "n = 69\n",
        "testando3 = df_val[df_val['classe2']==n]\n",
        "testando3['Produto'].unique()"
      ],
      "execution_count": null,
      "outputs": [
        {
          "output_type": "execute_result",
          "data": {
            "text/plain": [
              "array(['tijolo ceramica 19 x 19 x 09 cm 1a - assu',\n",
              "       'tijo de ceramica 8 furos', 'tijolo de ceramica 8 furos'],\n",
              "      dtype=object)"
            ]
          },
          "metadata": {
            "tags": []
          },
          "execution_count": 112
        }
      ]
    },
    {
      "cell_type": "code",
      "metadata": {
        "id": "nb81Hh5cyd0d"
      },
      "source": [
        "testando3['xprod'].unique()"
      ],
      "execution_count": null,
      "outputs": []
    },
    {
      "cell_type": "code",
      "metadata": {
        "id": "bphshBbPcK_l"
      },
      "source": [
        "t2 = df_treino[df_treino['definicao']==n]\r\n",
        "t2.iloc[np.random.randint(len(t2),size=50)]\r\n",
        "t2[t2['Produto'].str.contains(r'60')]"
      ],
      "execution_count": null,
      "outputs": []
    },
    {
      "cell_type": "markdown",
      "metadata": {
        "id": "sJmqz-netjF2"
      },
      "source": [
        "#### Votação Hard"
      ]
    },
    {
      "cell_type": "code",
      "metadata": {
        "colab": {
          "base_uri": "https://localhost:8080/",
          "height": 34
        },
        "id": "V6ls2hoZjTjJ",
        "outputId": "fcd3c3fa-5d3b-4b18-aa24-9ccdffa3e7c5"
      },
      "source": [
        "y_prob = clf.predict_proba(X_test_tfidf)\n",
        "y_prob = [ dictionary[np.argmax(probs)] if max(probs) > 0.5 else 1000 for probs in y_prob ]\n",
        "accuracy_score(y_test.tolist(), y_prob)"
      ],
      "execution_count": null,
      "outputs": [
        {
          "output_type": "execute_result",
          "data": {
            "text/plain": [
              "0.8514851485148515"
            ]
          },
          "metadata": {
            "tags": []
          },
          "execution_count": 73
        }
      ]
    },
    {
      "cell_type": "code",
      "metadata": {
        "id": "bdyGZhizGjAz"
      },
      "source": [
        "y_prob = clf.predict_proba(X_val_tfidf)\n",
        "\n",
        "df_val_sem_ruido['classe'] = [ dictionary[np.argmax(probs)] if max(probs) > 0.5 else 1000 for probs in y_prob ]\n",
        "#df_val_sem_ruido['classe'] = df_val_sem_ruido['classe'].apply(lambda x: int(x) if not pd.isna(x) else 1000)\n",
        "df_val_sem_ruido['definicao'] = df_val_sem_ruido['definicao'].apply(lambda x: int(x))\n",
        "print('Accuracia:{0:.2f}\\n'.format(accuracy_score(df_val_sem_ruido['definicao'], df_val_sem_ruido['classe'])))"
      ],
      "execution_count": null,
      "outputs": []
    },
    {
      "cell_type": "code",
      "metadata": {
        "id": "MpGSiIVyHjTT"
      },
      "source": [
        "plt.figure(figsize=(45,25))\n",
        "cm = confusion_matrix(df_val_sem_ruido['definicao'], df_val_sem_ruido['classe'])\n",
        "sns.heatmap(cm, annot=True, cbar=False, fmt='g', xticklabels = real_groups, yticklabels = real_groups)\n",
        "plt.ylabel('True Label')\n",
        "plt.xlabel('Predicted Label')\n",
        "plt.title('Accuracy:{0:.2f}'.format(accuracy_score(df_val_sem_ruido['definicao'], df_val_sem_ruido['classe'])))"
      ],
      "execution_count": null,
      "outputs": []
    },
    {
      "cell_type": "markdown",
      "metadata": {
        "id": "1rKkZyDddzlf"
      },
      "source": [
        "### outros"
      ]
    },
    {
      "cell_type": "code",
      "metadata": {
        "id": "Q2rcG3nzFrm4"
      },
      "source": [
        "#y_prob = clf.predict_proba(doc_vectors_std_umap_teste)\n",
        "y_prob = clf.predict_proba(X_test_tfidf_others)\n",
        "y_pred_prob = [ dictionary[np.argmax(probs)] if max(probs) > 0.90 else None for probs in y_prob ]\n",
        "df_test['classe'] = y_pred_prob\n",
        "qtd=df_test[~df_test['classe'].isna()]\n",
        "print(f'Novas amostras detectadas: {len( qtd )}')"
      ],
      "execution_count": null,
      "outputs": []
    },
    {
      "cell_type": "code",
      "metadata": {
        "colab": {
          "base_uri": "https://localhost:8080/",
          "height": 365
        },
        "id": "oXqqzIv-Ok0V",
        "outputId": "ed7dd103-6136-4c89-d469-cc358f734658"
      },
      "source": [
        "fig = plt.figure(figsize=(30,8))\n",
        "df_test.groupby('classe').classe.count().plot.bar(ylim=0)\n",
        "fig.set_facecolor('xkcd:white')\n",
        "plt.show()"
      ],
      "execution_count": null,
      "outputs": [
        {
          "output_type": "stream",
          "text": [
            "Novas amostras detectadas: 21673\n"
          ],
          "name": "stdout"
        },
        {
          "output_type": "display_data",
          "data": {
            "image/png": "[encoded data removed]",
            "text/plain": [
              "<Figure size 2160x576 with 1 Axes>"
            ]
          },
          "metadata": {
            "tags": []
          }
        }
      ]
    },
    {
      "cell_type": "code",
      "metadata": {
        "colab": {
          "base_uri": "https://localhost:8080/",
          "height": 782
        },
        "id": "bSnq_MqyKiZP",
        "outputId": "7e8c0368-68a3-4a4d-89e7-9507037f8659"
      },
      "source": [
        "n = 67\n",
        "testando = df_test[df_test['classe']==n]\n",
        "testando['Produto'].unique()"
      ],
      "execution_count": null,
      "outputs": [
        {
          "output_type": "execute_result",
          "data": {
            "text/plain": [
              "array(['bolacha cream cracker 400g', 'biscoito cream craker integral',\n",
              "       'cream cracker 400g', 'biscoito salgado cream creacker 400g',\n",
              "       'biscoito salgado cream cracker pct 400g',\n",
              "       'biscoito cream cream craker', 'biscoito cream cream craker cx',\n",
              "       'biscoito cream cracker integral 400g', 'cream cracker integral',\n",
              "       'biscoito cream craker 400grs pct estrela',\n",
              "       'biscoito sal c cracker estrela 400gr',\n",
              "       'biscoito salgado integral 400g estrela', 'biscoito cream cracker',\n",
              "       'biscoito salgado ceram cracker estrela',\n",
              "       'biscoito cream craker estrela 400gr',\n",
              "       'biscoito salgado 400g estrela',\n",
              "       'biscoito salgado integral 400g vitabono',\n",
              "       'biscoito cream craker 400g',\n",
              "       'biscoito salgado cream craker integral 400g estrela',\n",
              "       'biscoito cream cracker 400g marilan',\n",
              "       'biscoito salgado integral 400g',\n",
              "       'biscoito salgado cream craker 400grs pct estrela',\n",
              "       'biscoito cream cracker integral 400g estrela',\n",
              "       'biscoito cream craker pct 400g vitarela',\n",
              "       'bisc cr cracker estrela integral 420g',\n",
              "       'bisc salgado estrela mini cracker 400g',\n",
              "       'bisc cr cracker estrela trad 400g',\n",
              "       'bisc cream cracker marilan 400gr', 'cream cracker tradicional',\n",
              "       'biscoito salgado estrela 400g', 'bisc vit cream cracker',\n",
              "       'biscoito cream cracker vitarela',\n",
              "       'cream cracker estrela integral 400g',\n",
              "       'cream cracker mamma mia 400g original',\n",
              "       'cream cracker estrela agua sal 400g', 'cream cracker est 400g',\n",
              "       'estrela cream cracker integral 420g',\n",
              "       'bisc estrela c cracker 400g', 'biscoito cram cracker 400g pct',\n",
              "       'biscoito salgado c cracker 400g estrela',\n",
              "       'biscoito cream cracker 400g m dias branco',\n",
              "       'biscoito salgado cream craker', 'biscoito cream craker',\n",
              "       'biscoito cr cracker estrela 400g',\n",
              "       'bisc cr cracker estrela 400g tradic',\n",
              "       'bisc cr cracker estrela 420g integr',\n",
              "       'bisc cr cracker integral estrela kg',\n",
              "       'bisc cr cracker estrela kg', 'bisc c cracker estrela 400g',\n",
              "       'biscoito cream cracck pct 400gr', 'cream cracker estrela 400g',\n",
              "       'biscoito c cracker 400g',\n",
              "       'bisc vita cream cracker 400g tradicional',\n",
              "       'biscoito salgado cream crack 400g',\n",
              "       'bisc cr cracker estrela 400g integr',\n",
              "       'biscoito tp cr cracker estrela 400g',\n",
              "       'biscoito cream craker integral 400g'], dtype=object)"
            ]
          },
          "metadata": {
            "tags": []
          },
          "execution_count": 115
        }
      ]
    },
    {
      "cell_type": "code",
      "metadata": {
        "id": "v4wcvlRbmCkx"
      },
      "source": [
        "df_original[df_original['definicao']==n][:30][['Produto','xprod']] "
      ],
      "execution_count": null,
      "outputs": []
    },
    {
      "cell_type": "code",
      "metadata": {
        "id": "QwEBIepQ94qQ"
      },
      "source": [
        "#df_aux[~df_aux['classe'].isna()].iloc[np.random.randint(len(df_aux[~df_aux['classe'].isna()]),size=15)][['Produto','classe']]\n",
        "#df[df['definicao']==53]['xprod'].unique().tolist()"
      ],
      "execution_count": null,
      "outputs": []
    },
    {
      "cell_type": "code",
      "metadata": {
        "id": "SMuTNy3j75kB"
      },
      "source": [
        "'''\n",
        "n1 = 53\n",
        "n2 = 5\n",
        "#df_aux[df_aux['xprod'].str.contains('oleo deisel')][:50]\n",
        "lista_teste= df[df['definicao']==n1]['xprod'].unique().tolist() + df[df['definicao']==n2]['xprod'].unique().tolist()\n",
        "vocab = [word for descr in lista_teste for word in descr.split()]\n",
        "dict1 = [word for descr in df[df['definicao']==n1]['xprod'].unique().tolist() for word in descr.split()]\n",
        "dict2 = [word for descr in df[df['definicao']==n2]['xprod'].unique().tolist() for word in descr.split()]\n",
        "resu= [word for word in set(vocab) if word in dict2 and word in dict1]\n",
        "resu'''"
      ],
      "execution_count": null,
      "outputs": []
    },
    {
      "cell_type": "markdown",
      "metadata": {
        "id": "pUz3g0m1P5Vy"
      },
      "source": [
        "### word2vec"
      ]
    },
    {
      "cell_type": "code",
      "metadata": {
        "id": "DPd08KH1fcEC"
      },
      "source": [
        "'''qtd_palavras = 10\n",
        "qtd_dimensoes = 300\n",
        "qtd_dimensoes_umap = 10\n",
        "# map index do valor predito com a classe real \n",
        "pickle_off = open (\"real_groups.pkl\", \"rb\")\n",
        "real_groups = pickle.load(pickle_off)\n",
        "dictionary = dict(zip(list(range(len(real_groups))), real_groups))'''"
      ],
      "execution_count": null,
      "outputs": []
    },
    {
      "cell_type": "code",
      "metadata": {
        "id": "8XBbH5APP4xn"
      },
      "source": [
        "'''pickle_off = open (\"produtos_test1.pkl\", \"rb\")\n",
        "df_aux = pickle.load(pickle_off)\n",
        "sentences_teste = [descr.split()[:qtd_palavras] for descr in df_aux['xprod']]\n",
        "doc_vectors_teste = {}\n",
        "for number, sent in enumerate(sentences_teste):\n",
        "    #agora dando peso maior pras primeiras palavras, peso decrescente ateh o final, numeros com mesmo peso da primeira palavra:\n",
        "    if len(sent) == 0:\n",
        "        doc_vectors_teste[number] = np.zeros(qtd_dimensoes,)\n",
        "    elif len(sent) == 1:\n",
        "        doc_vectors_teste[number] = ft.get_word_vector(sent[0])\n",
        "    elif len(sent) > 1:\n",
        "        pesos = np.array(range(len(sent))[::]) + 1\n",
        "        pesos = 1 / pesos\n",
        "        media = []\n",
        "        divisao = 0\n",
        "        counter = 0\n",
        "        for word in sent:\n",
        "            if word.isdigit():\n",
        "                media.append(ft.get_word_vector(word) * ((pesos[0]+pesos[-1])*(1/2)) )\n",
        "                divisao += ((pesos[0]+pesos[-1])*(1/2))\n",
        "            else:\n",
        "                media.append(ft.get_word_vector(word) * pesos[counter])\n",
        "                divisao += pesos[counter]\n",
        "            counter += 1\n",
        "        doc_vectors_teste[number] = np.array(media).sum(axis=0) / divisao #media de tudo'''"
      ],
      "execution_count": null,
      "outputs": []
    },
    {
      "cell_type": "code",
      "metadata": {
        "id": "TmH11yj-FLLT"
      },
      "source": [
        "'''doc_vectors_teste = pd.DataFrame(doc_vectors_teste).T\n",
        "doc_vectors_teste = doc_vectors_teste.set_index(df_aux.index) \n",
        "\n",
        "scaler = StandardScaler()\n",
        "doc_vectors_std_df_teste = pd.DataFrame(scaler.fit_transform(doc_vectors_teste),index=doc_vectors_teste.index,columns=doc_vectors_teste.columns)'''"
      ],
      "execution_count": null,
      "outputs": []
    },
    {
      "cell_type": "code",
      "metadata": {
        "id": "pK9sSl0HFKif"
      },
      "source": [
        "'''umap_redux = umap.UMAP(n_components=qtd_dimensoes_umap, random_state=999, metric='cosine',verbose=True)\n",
        "umap_redux.fit(doc_vectors_std_df_teste)\n",
        "doc_vectors_std_df_umap_teste = umap_redux.transform(X=doc_vectors_std_df_teste)'''"
      ],
      "execution_count": null,
      "outputs": []
    },
    {
      "cell_type": "code",
      "metadata": {
        "id": "Bep3i9z9HE5L"
      },
      "source": [
        "#pickle_off = open (\"modelo.pkl\", \"rb\")\n",
        "#clf = pickle.load(pickle_off)"
      ],
      "execution_count": null,
      "outputs": []
    },
    {
      "cell_type": "markdown",
      "metadata": {
        "id": "TRnpTIGE_D9M"
      },
      "source": [
        "## Salva Resu"
      ]
    },
    {
      "cell_type": "markdown",
      "metadata": {
        "id": "Na5OmPIf6JWU"
      },
      "source": [
        "### absorve outros"
      ]
    },
    {
      "cell_type": "code",
      "metadata": {
        "id": "39PA3wFlV6xJ"
      },
      "source": [
        "df_original['classe'] = df_original['definicao']\n",
        "#df_aux = df_aux[~df_aux['classe'].isna()]\n",
        "df_final = pd.concat([df_original, df_aux])"
      ],
      "execution_count": null,
      "outputs": []
    },
    {
      "cell_type": "code",
      "metadata": {
        "id": "TZCKcnTdW5SC"
      },
      "source": [
        "fig = plt.figure(figsize=(20,5))\n",
        "df_final.groupby('classe').definicao.count().plot.bar(ylim=0)\n",
        "fig.set_facecolor('xkcd:white')\n",
        "plt.show()"
      ],
      "execution_count": null,
      "outputs": []
    },
    {
      "cell_type": "markdown",
      "metadata": {
        "id": "MOmqhJKvyF9l"
      },
      "source": [
        "### outros save"
      ]
    },
    {
      "cell_type": "markdown",
      "metadata": {
        "id": "7xp1qFIse0nH"
      },
      "source": [
        "#### save"
      ]
    },
    {
      "cell_type": "code",
      "metadata": {
        "id": "RLT9oTgSHqf2"
      },
      "source": [
        "'''df = df_produto[~df_produto['definicao'].isin(['outros'])] \n",
        "\n",
        "le = LabelEncoder()\n",
        "df['classe'] = le.transform(df.definicao)\n",
        "descricoes = le.classes_\n",
        "grupos = le.transform(le.classes_)\n",
        "'''"
      ],
      "execution_count": null,
      "outputs": []
    },
    {
      "cell_type": "code",
      "metadata": {
        "id": "sRvQo5h88f83"
      },
      "source": [
        "calc_preco(df_final, grupos, descricoes)\n",
        "df_final = df_final.round(2)\n",
        "df_final['qcom'] = df_final['qcom'].astype(int)\n",
        "df_final['vuncom'] = df_final['vuncom'].astype(str).str.replace('.',\",\")  \n",
        "df_final['vprod'] = df_final['vprod'].astype(str).str.replace('.',\",\")\n",
        "df_final = reindex_grupos(df_final)\n",
        "df_final.to_csv('produtos_classificados.csv', encoding=\"utf-8-sig\")"
      ],
      "execution_count": null,
      "outputs": []
    },
    {
      "cell_type": "code",
      "metadata": {
        "id": "P7-EzO-859I1"
      },
      "source": [
        "'''\n",
        "#mesclando classes preditas com determinadas\n",
        "df_teste = pd.DataFrame(y_test)\n",
        "df_train = pd.DataFrame(y_train)\n",
        "#y_pred n preserva index, tem q pegar do teste (sobrescreve teste)\n",
        "df_teste['definicao'] = y_pred.tolist()\n",
        "\n",
        "df['classe'] = pd.concat([df_teste, df_train])\n",
        "\n",
        "#df_out['classe'] = df_out['definicao']\n",
        "#df = pd.concat([df, df_out])\n",
        "'''"
      ],
      "execution_count": null,
      "outputs": []
    }
  ]
}